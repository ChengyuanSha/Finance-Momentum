{
 "cells": [
  {
   "cell_type": "code",
   "execution_count": 45,
   "metadata": {
    "collapsed": true
   },
   "outputs": [],
   "source": [
    "import yfinance as yf\n",
    "import numpy as np\n",
    "import pandas as pd\n",
    "import datetime as dt\n",
    "from pandas.tseries.offsets import MonthEnd"
   ]
  },
  {
   "cell_type": "code",
   "source": [
    "# get ticket symbols for all S&P 500"
   ],
   "metadata": {
    "collapsed": false,
    "pycharm": {
     "name": "#%%\n"
    }
   },
   "execution_count": 46,
   "outputs": []
  },
  {
   "cell_type": "code",
   "execution_count": 47,
   "outputs": [],
   "source": [
    "df = pd.read_csv('NASDAQ100.csv')"
   ],
   "metadata": {
    "collapsed": false,
    "pycharm": {
     "name": "#%%\n"
    }
   }
  },
  {
   "cell_type": "code",
   "execution_count": 48,
   "outputs": [],
   "source": [
    "tickers = df['Symbol'].tolist()"
   ],
   "metadata": {
    "collapsed": false,
    "pycharm": {
     "name": "#%%\n"
    }
   }
  },
  {
   "cell_type": "code",
   "execution_count": 49,
   "outputs": [
    {
     "name": "stdout",
     "output_type": "stream",
     "text": [
      "[*********************100%***********************]  102 of 102 completed\n"
     ]
    }
   ],
   "source": [
    "# 2009 12 31, 2020 12 31\n",
    "df_yf = yf.download(tickers, start='2009-05-01', end='2021-09-01')"
   ],
   "metadata": {
    "collapsed": false,
    "pycharm": {
     "name": "#%%\n"
    }
   }
  },
  {
   "cell_type": "code",
   "execution_count": 50,
   "outputs": [
    {
     "data": {
      "text/plain": "             Adj Close                                                  \\\n                  AAPL        ADBE         ADI         ADP        ADSK   \nDate                                                                     \n2009-05-01    3.896112   27.459999   15.410912   22.757332   19.629999   \n2009-05-04    4.044008   26.690001   16.073988   22.334475   20.469999   \n2009-05-05    4.063605   26.889999   16.030258   22.859844   20.440001   \n2009-05-06    4.057173   26.350000   16.482027   23.590237   20.469999   \n2009-05-07    3.951840   25.629999   15.709653   23.314739   19.469999   \n...                ...         ...         ...         ...         ...   \n2021-08-26  147.324982  652.390015  167.360001  206.141159  310.190002   \n2021-08-27  148.383453  658.520020  166.479996  208.012650  315.640015   \n2021-08-30  152.896851  665.989990  166.979996  208.122147  313.390015   \n2021-08-31  151.608734  663.700012  162.949997  208.092270  310.089996   \n2021-09-01         NaN         NaN         NaN         NaN         NaN   \n\n                                                                       ...  \\\n                  AEP        ALGN        AMAT         AMD        AMGN  ...   \nDate                                                                   ...   \n2009-05-01  16.317862   12.060000    9.614779    3.820000   37.904808  ...   \n2009-05-04  16.214891   12.330000   10.072625    4.260000   37.826809  ...   \n2009-05-05  16.178551   12.430000    9.780551    4.320000   37.421345  ...   \n2009-05-06  16.104725   11.930000   10.009473    4.310000   37.140625  ...   \n2009-05-07  16.135490   12.020000    9.354280    4.010000   36.711754  ...   \n...               ...         ...         ...         ...         ...  ...   \n2021-08-26  89.250000  696.559998  132.490005  107.269997  221.470001  ...   \n2021-08-27  89.290001  701.849976  136.550003  111.400002  222.779999  ...   \n2021-08-30  89.620003  702.109985  136.050003  111.320000  224.130005  ...   \n2021-08-31  89.570000  709.000000  135.130005  110.720001  225.529999  ...   \n2021-09-01        NaN         NaN         NaN         NaN         NaN  ...   \n\n                Volume                                              \\\n                  TSLA         TXN      VRSK       VRSN       VRTX   \nDate                                                                 \n2009-05-01         NaN  16325400.0       NaN  4188100.0  1689700.0   \n2009-05-04         NaN  16309000.0       NaN  5512200.0  1563600.0   \n2009-05-05         NaN  17431400.0       NaN  5212500.0  1430300.0   \n2009-05-06         NaN  23624200.0       NaN  2955400.0  2025300.0   \n2009-05-07         NaN  21294200.0       NaN  5107600.0  2064600.0   \n...                ...         ...       ...        ...        ...   \n2021-08-26  13214300.0   3643700.0  945100.0   360700.0  1134700.0   \n2021-08-27  13762100.0   2859800.0  752300.0   342500.0  1290000.0   \n2021-08-30  18604200.0   2356500.0  417000.0   287200.0  1119600.0   \n2021-08-31  20855400.0   4227500.0  710800.0   524300.0  1889700.0   \n2021-09-01         NaN         NaN       NaN        NaN        NaN   \n\n                                                                      \n                   WBA       WDAY        XEL        XLNX          ZM  \nDate                                                                  \n2009-05-01   8225200.0        NaN  2893100.0   5244900.0         NaN  \n2009-05-04   8322500.0        NaN  3355300.0   5671800.0         NaN  \n2009-05-05   7582900.0        NaN  3783400.0   9367700.0         NaN  \n2009-05-06   5964700.0        NaN  3065900.0   7521800.0         NaN  \n2009-05-07   8216900.0        NaN  3011800.0  10704000.0         NaN  \n...                ...        ...        ...         ...         ...  \n2021-08-26   3847200.0  3036300.0  1637700.0   1359600.0   4849000.0  \n2021-08-27   3355000.0  7410500.0  3287400.0   1771700.0   3089600.0  \n2021-08-30   2461700.0  1904600.0  1642600.0   1310400.0  10094400.0  \n2021-08-31  11814400.0  2074900.0  2696100.0   1816700.0  34582900.0  \n2021-09-01         NaN        NaN        NaN         NaN         NaN  \n\n[3107 rows x 612 columns]",
      "text/html": "<div>\n<style scoped>\n    .dataframe tbody tr th:only-of-type {\n        vertical-align: middle;\n    }\n\n    .dataframe tbody tr th {\n        vertical-align: top;\n    }\n\n    .dataframe thead tr th {\n        text-align: left;\n    }\n\n    .dataframe thead tr:last-of-type th {\n        text-align: right;\n    }\n</style>\n<table border=\"1\" class=\"dataframe\">\n  <thead>\n    <tr>\n      <th></th>\n      <th colspan=\"10\" halign=\"left\">Adj Close</th>\n      <th>...</th>\n      <th colspan=\"10\" halign=\"left\">Volume</th>\n    </tr>\n    <tr>\n      <th></th>\n      <th>AAPL</th>\n      <th>ADBE</th>\n      <th>ADI</th>\n      <th>ADP</th>\n      <th>ADSK</th>\n      <th>AEP</th>\n      <th>ALGN</th>\n      <th>AMAT</th>\n      <th>AMD</th>\n      <th>AMGN</th>\n      <th>...</th>\n      <th>TSLA</th>\n      <th>TXN</th>\n      <th>VRSK</th>\n      <th>VRSN</th>\n      <th>VRTX</th>\n      <th>WBA</th>\n      <th>WDAY</th>\n      <th>XEL</th>\n      <th>XLNX</th>\n      <th>ZM</th>\n    </tr>\n    <tr>\n      <th>Date</th>\n      <th></th>\n      <th></th>\n      <th></th>\n      <th></th>\n      <th></th>\n      <th></th>\n      <th></th>\n      <th></th>\n      <th></th>\n      <th></th>\n      <th></th>\n      <th></th>\n      <th></th>\n      <th></th>\n      <th></th>\n      <th></th>\n      <th></th>\n      <th></th>\n      <th></th>\n      <th></th>\n      <th></th>\n    </tr>\n  </thead>\n  <tbody>\n    <tr>\n      <th>2009-05-01</th>\n      <td>3.896112</td>\n      <td>27.459999</td>\n      <td>15.410912</td>\n      <td>22.757332</td>\n      <td>19.629999</td>\n      <td>16.317862</td>\n      <td>12.060000</td>\n      <td>9.614779</td>\n      <td>3.820000</td>\n      <td>37.904808</td>\n      <td>...</td>\n      <td>NaN</td>\n      <td>16325400.0</td>\n      <td>NaN</td>\n      <td>4188100.0</td>\n      <td>1689700.0</td>\n      <td>8225200.0</td>\n      <td>NaN</td>\n      <td>2893100.0</td>\n      <td>5244900.0</td>\n      <td>NaN</td>\n    </tr>\n    <tr>\n      <th>2009-05-04</th>\n      <td>4.044008</td>\n      <td>26.690001</td>\n      <td>16.073988</td>\n      <td>22.334475</td>\n      <td>20.469999</td>\n      <td>16.214891</td>\n      <td>12.330000</td>\n      <td>10.072625</td>\n      <td>4.260000</td>\n      <td>37.826809</td>\n      <td>...</td>\n      <td>NaN</td>\n      <td>16309000.0</td>\n      <td>NaN</td>\n      <td>5512200.0</td>\n      <td>1563600.0</td>\n      <td>8322500.0</td>\n      <td>NaN</td>\n      <td>3355300.0</td>\n      <td>5671800.0</td>\n      <td>NaN</td>\n    </tr>\n    <tr>\n      <th>2009-05-05</th>\n      <td>4.063605</td>\n      <td>26.889999</td>\n      <td>16.030258</td>\n      <td>22.859844</td>\n      <td>20.440001</td>\n      <td>16.178551</td>\n      <td>12.430000</td>\n      <td>9.780551</td>\n      <td>4.320000</td>\n      <td>37.421345</td>\n      <td>...</td>\n      <td>NaN</td>\n      <td>17431400.0</td>\n      <td>NaN</td>\n      <td>5212500.0</td>\n      <td>1430300.0</td>\n      <td>7582900.0</td>\n      <td>NaN</td>\n      <td>3783400.0</td>\n      <td>9367700.0</td>\n      <td>NaN</td>\n    </tr>\n    <tr>\n      <th>2009-05-06</th>\n      <td>4.057173</td>\n      <td>26.350000</td>\n      <td>16.482027</td>\n      <td>23.590237</td>\n      <td>20.469999</td>\n      <td>16.104725</td>\n      <td>11.930000</td>\n      <td>10.009473</td>\n      <td>4.310000</td>\n      <td>37.140625</td>\n      <td>...</td>\n      <td>NaN</td>\n      <td>23624200.0</td>\n      <td>NaN</td>\n      <td>2955400.0</td>\n      <td>2025300.0</td>\n      <td>5964700.0</td>\n      <td>NaN</td>\n      <td>3065900.0</td>\n      <td>7521800.0</td>\n      <td>NaN</td>\n    </tr>\n    <tr>\n      <th>2009-05-07</th>\n      <td>3.951840</td>\n      <td>25.629999</td>\n      <td>15.709653</td>\n      <td>23.314739</td>\n      <td>19.469999</td>\n      <td>16.135490</td>\n      <td>12.020000</td>\n      <td>9.354280</td>\n      <td>4.010000</td>\n      <td>36.711754</td>\n      <td>...</td>\n      <td>NaN</td>\n      <td>21294200.0</td>\n      <td>NaN</td>\n      <td>5107600.0</td>\n      <td>2064600.0</td>\n      <td>8216900.0</td>\n      <td>NaN</td>\n      <td>3011800.0</td>\n      <td>10704000.0</td>\n      <td>NaN</td>\n    </tr>\n    <tr>\n      <th>...</th>\n      <td>...</td>\n      <td>...</td>\n      <td>...</td>\n      <td>...</td>\n      <td>...</td>\n      <td>...</td>\n      <td>...</td>\n      <td>...</td>\n      <td>...</td>\n      <td>...</td>\n      <td>...</td>\n      <td>...</td>\n      <td>...</td>\n      <td>...</td>\n      <td>...</td>\n      <td>...</td>\n      <td>...</td>\n      <td>...</td>\n      <td>...</td>\n      <td>...</td>\n      <td>...</td>\n    </tr>\n    <tr>\n      <th>2021-08-26</th>\n      <td>147.324982</td>\n      <td>652.390015</td>\n      <td>167.360001</td>\n      <td>206.141159</td>\n      <td>310.190002</td>\n      <td>89.250000</td>\n      <td>696.559998</td>\n      <td>132.490005</td>\n      <td>107.269997</td>\n      <td>221.470001</td>\n      <td>...</td>\n      <td>13214300.0</td>\n      <td>3643700.0</td>\n      <td>945100.0</td>\n      <td>360700.0</td>\n      <td>1134700.0</td>\n      <td>3847200.0</td>\n      <td>3036300.0</td>\n      <td>1637700.0</td>\n      <td>1359600.0</td>\n      <td>4849000.0</td>\n    </tr>\n    <tr>\n      <th>2021-08-27</th>\n      <td>148.383453</td>\n      <td>658.520020</td>\n      <td>166.479996</td>\n      <td>208.012650</td>\n      <td>315.640015</td>\n      <td>89.290001</td>\n      <td>701.849976</td>\n      <td>136.550003</td>\n      <td>111.400002</td>\n      <td>222.779999</td>\n      <td>...</td>\n      <td>13762100.0</td>\n      <td>2859800.0</td>\n      <td>752300.0</td>\n      <td>342500.0</td>\n      <td>1290000.0</td>\n      <td>3355000.0</td>\n      <td>7410500.0</td>\n      <td>3287400.0</td>\n      <td>1771700.0</td>\n      <td>3089600.0</td>\n    </tr>\n    <tr>\n      <th>2021-08-30</th>\n      <td>152.896851</td>\n      <td>665.989990</td>\n      <td>166.979996</td>\n      <td>208.122147</td>\n      <td>313.390015</td>\n      <td>89.620003</td>\n      <td>702.109985</td>\n      <td>136.050003</td>\n      <td>111.320000</td>\n      <td>224.130005</td>\n      <td>...</td>\n      <td>18604200.0</td>\n      <td>2356500.0</td>\n      <td>417000.0</td>\n      <td>287200.0</td>\n      <td>1119600.0</td>\n      <td>2461700.0</td>\n      <td>1904600.0</td>\n      <td>1642600.0</td>\n      <td>1310400.0</td>\n      <td>10094400.0</td>\n    </tr>\n    <tr>\n      <th>2021-08-31</th>\n      <td>151.608734</td>\n      <td>663.700012</td>\n      <td>162.949997</td>\n      <td>208.092270</td>\n      <td>310.089996</td>\n      <td>89.570000</td>\n      <td>709.000000</td>\n      <td>135.130005</td>\n      <td>110.720001</td>\n      <td>225.529999</td>\n      <td>...</td>\n      <td>20855400.0</td>\n      <td>4227500.0</td>\n      <td>710800.0</td>\n      <td>524300.0</td>\n      <td>1889700.0</td>\n      <td>11814400.0</td>\n      <td>2074900.0</td>\n      <td>2696100.0</td>\n      <td>1816700.0</td>\n      <td>34582900.0</td>\n    </tr>\n    <tr>\n      <th>2021-09-01</th>\n      <td>NaN</td>\n      <td>NaN</td>\n      <td>NaN</td>\n      <td>NaN</td>\n      <td>NaN</td>\n      <td>NaN</td>\n      <td>NaN</td>\n      <td>NaN</td>\n      <td>NaN</td>\n      <td>NaN</td>\n      <td>...</td>\n      <td>NaN</td>\n      <td>NaN</td>\n      <td>NaN</td>\n      <td>NaN</td>\n      <td>NaN</td>\n      <td>NaN</td>\n      <td>NaN</td>\n      <td>NaN</td>\n      <td>NaN</td>\n      <td>NaN</td>\n    </tr>\n  </tbody>\n</table>\n<p>3107 rows × 612 columns</p>\n</div>"
     },
     "execution_count": 50,
     "metadata": {},
     "output_type": "execute_result"
    }
   ],
   "source": [
    "df_yf"
   ],
   "metadata": {
    "collapsed": false,
    "pycharm": {
     "name": "#%%\n"
    }
   }
  },
  {
   "cell_type": "code",
   "execution_count": 51,
   "outputs": [],
   "source": [
    "prices = df_yf['Adj Close']"
   ],
   "metadata": {
    "collapsed": false,
    "pycharm": {
     "name": "#%%\n"
    }
   }
  },
  {
   "cell_type": "code",
   "execution_count": 52,
   "outputs": [
    {
     "data": {
      "text/plain": "                  AAPL        ADBE         ADI         ADP        ADSK  \\\nDate                                                                     \n2009-05-01    3.896112   27.459999   15.410912   22.757332   19.629999   \n2009-05-04    4.044008   26.690001   16.073988   22.334475   20.469999   \n2009-05-05    4.063605   26.889999   16.030258   22.859844   20.440001   \n2009-05-06    4.057173   26.350000   16.482027   23.590237   20.469999   \n2009-05-07    3.951840   25.629999   15.709653   23.314739   19.469999   \n...                ...         ...         ...         ...         ...   \n2021-08-26  147.324982  652.390015  167.360001  206.141159  310.190002   \n2021-08-27  148.383453  658.520020  166.479996  208.012650  315.640015   \n2021-08-30  152.896851  665.989990  166.979996  208.122147  313.390015   \n2021-08-31  151.608734  663.700012  162.949997  208.092270  310.089996   \n2021-09-01         NaN         NaN         NaN         NaN         NaN   \n\n                  AEP        ALGN        AMAT         AMD        AMGN  ...  \\\nDate                                                                   ...   \n2009-05-01  16.317862   12.060000    9.614779    3.820000   37.904808  ...   \n2009-05-04  16.214891   12.330000   10.072625    4.260000   37.826809  ...   \n2009-05-05  16.178551   12.430000    9.780551    4.320000   37.421345  ...   \n2009-05-06  16.104725   11.930000   10.009473    4.310000   37.140625  ...   \n2009-05-07  16.135490   12.020000    9.354280    4.010000   36.711754  ...   \n...               ...         ...         ...         ...         ...  ...   \n2021-08-26  89.250000  696.559998  132.490005  107.269997  221.470001  ...   \n2021-08-27  89.290001  701.849976  136.550003  111.400002  222.779999  ...   \n2021-08-30  89.620003  702.109985  136.050003  111.320000  224.130005  ...   \n2021-08-31  89.570000  709.000000  135.130005  110.720001  225.529999  ...   \n2021-09-01        NaN         NaN         NaN         NaN         NaN  ...   \n\n                  TSLA         TXN        VRSK        VRSN        VRTX  \\\nDate                                                                     \n2009-05-01         NaN   13.190512         NaN   18.078426   30.260000   \n2009-05-04         NaN   13.491803         NaN   18.536968   30.510000   \n2009-05-05         NaN   13.124373         NaN   18.503002   30.200001   \n2009-05-06         NaN   13.455059         NaN   18.384121   28.790001   \n2009-05-07         NaN   12.918619         NaN   17.687819   29.090000   \n...                ...         ...         ...         ...         ...   \n2021-08-26  701.159973  186.819382  197.500244  212.729996  198.250000   \n2021-08-27  711.919983  189.353775  199.237793  214.660004  199.919998   \n2021-08-30  730.909973  190.258194  200.496002  216.149994  199.490005   \n2021-08-31  735.719971  189.741394  201.474609  216.259995  200.289993   \n2021-09-01         NaN         NaN         NaN         NaN         NaN   \n\n                  WBA        WDAY        XEL        XLNX          ZM  \nDate                                                                  \n2009-05-01  23.235170         NaN  11.747939   15.611619         NaN  \n2009-05-04  23.227804         NaN  11.677672   16.092564         NaN  \n2009-05-05  23.154110         NaN  11.684056   15.741397         NaN  \n2009-05-06  22.999352         NaN  11.607399   15.771933         NaN  \n2009-05-07  22.490879         NaN  11.658503   14.771870         NaN  \n...               ...         ...        ...         ...         ...  \n2021-08-26  47.840000  246.759995  67.833672  150.787903  340.630005  \n2021-08-27  48.480000  269.279999  68.230934  155.978195  340.809998  \n2021-08-30  48.630001  271.369995  68.558685  154.780441  347.500000  \n2021-08-31  50.750000  273.160004  68.280602  155.299454  289.500000  \n2021-09-01        NaN         NaN        NaN         NaN         NaN  \n\n[3107 rows x 102 columns]",
      "text/html": "<div>\n<style scoped>\n    .dataframe tbody tr th:only-of-type {\n        vertical-align: middle;\n    }\n\n    .dataframe tbody tr th {\n        vertical-align: top;\n    }\n\n    .dataframe thead th {\n        text-align: right;\n    }\n</style>\n<table border=\"1\" class=\"dataframe\">\n  <thead>\n    <tr style=\"text-align: right;\">\n      <th></th>\n      <th>AAPL</th>\n      <th>ADBE</th>\n      <th>ADI</th>\n      <th>ADP</th>\n      <th>ADSK</th>\n      <th>AEP</th>\n      <th>ALGN</th>\n      <th>AMAT</th>\n      <th>AMD</th>\n      <th>AMGN</th>\n      <th>...</th>\n      <th>TSLA</th>\n      <th>TXN</th>\n      <th>VRSK</th>\n      <th>VRSN</th>\n      <th>VRTX</th>\n      <th>WBA</th>\n      <th>WDAY</th>\n      <th>XEL</th>\n      <th>XLNX</th>\n      <th>ZM</th>\n    </tr>\n    <tr>\n      <th>Date</th>\n      <th></th>\n      <th></th>\n      <th></th>\n      <th></th>\n      <th></th>\n      <th></th>\n      <th></th>\n      <th></th>\n      <th></th>\n      <th></th>\n      <th></th>\n      <th></th>\n      <th></th>\n      <th></th>\n      <th></th>\n      <th></th>\n      <th></th>\n      <th></th>\n      <th></th>\n      <th></th>\n      <th></th>\n    </tr>\n  </thead>\n  <tbody>\n    <tr>\n      <th>2009-05-01</th>\n      <td>3.896112</td>\n      <td>27.459999</td>\n      <td>15.410912</td>\n      <td>22.757332</td>\n      <td>19.629999</td>\n      <td>16.317862</td>\n      <td>12.060000</td>\n      <td>9.614779</td>\n      <td>3.820000</td>\n      <td>37.904808</td>\n      <td>...</td>\n      <td>NaN</td>\n      <td>13.190512</td>\n      <td>NaN</td>\n      <td>18.078426</td>\n      <td>30.260000</td>\n      <td>23.235170</td>\n      <td>NaN</td>\n      <td>11.747939</td>\n      <td>15.611619</td>\n      <td>NaN</td>\n    </tr>\n    <tr>\n      <th>2009-05-04</th>\n      <td>4.044008</td>\n      <td>26.690001</td>\n      <td>16.073988</td>\n      <td>22.334475</td>\n      <td>20.469999</td>\n      <td>16.214891</td>\n      <td>12.330000</td>\n      <td>10.072625</td>\n      <td>4.260000</td>\n      <td>37.826809</td>\n      <td>...</td>\n      <td>NaN</td>\n      <td>13.491803</td>\n      <td>NaN</td>\n      <td>18.536968</td>\n      <td>30.510000</td>\n      <td>23.227804</td>\n      <td>NaN</td>\n      <td>11.677672</td>\n      <td>16.092564</td>\n      <td>NaN</td>\n    </tr>\n    <tr>\n      <th>2009-05-05</th>\n      <td>4.063605</td>\n      <td>26.889999</td>\n      <td>16.030258</td>\n      <td>22.859844</td>\n      <td>20.440001</td>\n      <td>16.178551</td>\n      <td>12.430000</td>\n      <td>9.780551</td>\n      <td>4.320000</td>\n      <td>37.421345</td>\n      <td>...</td>\n      <td>NaN</td>\n      <td>13.124373</td>\n      <td>NaN</td>\n      <td>18.503002</td>\n      <td>30.200001</td>\n      <td>23.154110</td>\n      <td>NaN</td>\n      <td>11.684056</td>\n      <td>15.741397</td>\n      <td>NaN</td>\n    </tr>\n    <tr>\n      <th>2009-05-06</th>\n      <td>4.057173</td>\n      <td>26.350000</td>\n      <td>16.482027</td>\n      <td>23.590237</td>\n      <td>20.469999</td>\n      <td>16.104725</td>\n      <td>11.930000</td>\n      <td>10.009473</td>\n      <td>4.310000</td>\n      <td>37.140625</td>\n      <td>...</td>\n      <td>NaN</td>\n      <td>13.455059</td>\n      <td>NaN</td>\n      <td>18.384121</td>\n      <td>28.790001</td>\n      <td>22.999352</td>\n      <td>NaN</td>\n      <td>11.607399</td>\n      <td>15.771933</td>\n      <td>NaN</td>\n    </tr>\n    <tr>\n      <th>2009-05-07</th>\n      <td>3.951840</td>\n      <td>25.629999</td>\n      <td>15.709653</td>\n      <td>23.314739</td>\n      <td>19.469999</td>\n      <td>16.135490</td>\n      <td>12.020000</td>\n      <td>9.354280</td>\n      <td>4.010000</td>\n      <td>36.711754</td>\n      <td>...</td>\n      <td>NaN</td>\n      <td>12.918619</td>\n      <td>NaN</td>\n      <td>17.687819</td>\n      <td>29.090000</td>\n      <td>22.490879</td>\n      <td>NaN</td>\n      <td>11.658503</td>\n      <td>14.771870</td>\n      <td>NaN</td>\n    </tr>\n    <tr>\n      <th>...</th>\n      <td>...</td>\n      <td>...</td>\n      <td>...</td>\n      <td>...</td>\n      <td>...</td>\n      <td>...</td>\n      <td>...</td>\n      <td>...</td>\n      <td>...</td>\n      <td>...</td>\n      <td>...</td>\n      <td>...</td>\n      <td>...</td>\n      <td>...</td>\n      <td>...</td>\n      <td>...</td>\n      <td>...</td>\n      <td>...</td>\n      <td>...</td>\n      <td>...</td>\n      <td>...</td>\n    </tr>\n    <tr>\n      <th>2021-08-26</th>\n      <td>147.324982</td>\n      <td>652.390015</td>\n      <td>167.360001</td>\n      <td>206.141159</td>\n      <td>310.190002</td>\n      <td>89.250000</td>\n      <td>696.559998</td>\n      <td>132.490005</td>\n      <td>107.269997</td>\n      <td>221.470001</td>\n      <td>...</td>\n      <td>701.159973</td>\n      <td>186.819382</td>\n      <td>197.500244</td>\n      <td>212.729996</td>\n      <td>198.250000</td>\n      <td>47.840000</td>\n      <td>246.759995</td>\n      <td>67.833672</td>\n      <td>150.787903</td>\n      <td>340.630005</td>\n    </tr>\n    <tr>\n      <th>2021-08-27</th>\n      <td>148.383453</td>\n      <td>658.520020</td>\n      <td>166.479996</td>\n      <td>208.012650</td>\n      <td>315.640015</td>\n      <td>89.290001</td>\n      <td>701.849976</td>\n      <td>136.550003</td>\n      <td>111.400002</td>\n      <td>222.779999</td>\n      <td>...</td>\n      <td>711.919983</td>\n      <td>189.353775</td>\n      <td>199.237793</td>\n      <td>214.660004</td>\n      <td>199.919998</td>\n      <td>48.480000</td>\n      <td>269.279999</td>\n      <td>68.230934</td>\n      <td>155.978195</td>\n      <td>340.809998</td>\n    </tr>\n    <tr>\n      <th>2021-08-30</th>\n      <td>152.896851</td>\n      <td>665.989990</td>\n      <td>166.979996</td>\n      <td>208.122147</td>\n      <td>313.390015</td>\n      <td>89.620003</td>\n      <td>702.109985</td>\n      <td>136.050003</td>\n      <td>111.320000</td>\n      <td>224.130005</td>\n      <td>...</td>\n      <td>730.909973</td>\n      <td>190.258194</td>\n      <td>200.496002</td>\n      <td>216.149994</td>\n      <td>199.490005</td>\n      <td>48.630001</td>\n      <td>271.369995</td>\n      <td>68.558685</td>\n      <td>154.780441</td>\n      <td>347.500000</td>\n    </tr>\n    <tr>\n      <th>2021-08-31</th>\n      <td>151.608734</td>\n      <td>663.700012</td>\n      <td>162.949997</td>\n      <td>208.092270</td>\n      <td>310.089996</td>\n      <td>89.570000</td>\n      <td>709.000000</td>\n      <td>135.130005</td>\n      <td>110.720001</td>\n      <td>225.529999</td>\n      <td>...</td>\n      <td>735.719971</td>\n      <td>189.741394</td>\n      <td>201.474609</td>\n      <td>216.259995</td>\n      <td>200.289993</td>\n      <td>50.750000</td>\n      <td>273.160004</td>\n      <td>68.280602</td>\n      <td>155.299454</td>\n      <td>289.500000</td>\n    </tr>\n    <tr>\n      <th>2021-09-01</th>\n      <td>NaN</td>\n      <td>NaN</td>\n      <td>NaN</td>\n      <td>NaN</td>\n      <td>NaN</td>\n      <td>NaN</td>\n      <td>NaN</td>\n      <td>NaN</td>\n      <td>NaN</td>\n      <td>NaN</td>\n      <td>...</td>\n      <td>NaN</td>\n      <td>NaN</td>\n      <td>NaN</td>\n      <td>NaN</td>\n      <td>NaN</td>\n      <td>NaN</td>\n      <td>NaN</td>\n      <td>NaN</td>\n      <td>NaN</td>\n      <td>NaN</td>\n    </tr>\n  </tbody>\n</table>\n<p>3107 rows × 102 columns</p>\n</div>"
     },
     "execution_count": 52,
     "metadata": {},
     "output_type": "execute_result"
    }
   ],
   "source": [
    "prices"
   ],
   "metadata": {
    "collapsed": false,
    "pycharm": {
     "name": "#%%\n"
    }
   }
  },
  {
   "cell_type": "code",
   "execution_count": 53,
   "outputs": [],
   "source": [
    "prices.index = pd.to_datetime(prices.index)\n"
   ],
   "metadata": {
    "collapsed": false,
    "pycharm": {
     "name": "#%%\n"
    }
   }
  },
  {
   "cell_type": "code",
   "execution_count": 54,
   "outputs": [],
   "source": [
    "# track all monthly return\n",
    "monthly_return = prices.pct_change().resample('M').agg(lambda x: (x+1).prod() -1)"
   ],
   "metadata": {
    "collapsed": false,
    "pycharm": {
     "name": "#%%\n"
    }
   }
  },
  {
   "cell_type": "code",
   "execution_count": 55,
   "outputs": [
    {
     "data": {
      "text/plain": "                AAPL      ADBE       ADI       ADP      ADSK       AEP  \\\nDate                                                                     \n2009-05-31  0.067353  0.026220  0.163976  0.070102  0.093225 -0.007029   \n2009-06-30  0.048744  0.004258  0.015158 -0.059511 -0.115564  0.096811   \n2009-07-31  0.147160  0.145583  0.104520  0.051072  0.149104  0.071651   \n2009-08-31  0.029500 -0.030845  0.039514  0.029530  0.074278  0.028873   \n2009-09-30  0.101896  0.051560 -0.023716  0.033574  0.015792 -0.013999   \n...              ...       ...       ...       ...       ...       ...   \n2021-05-31 -0.050497 -0.007397  0.079237  0.048291 -0.020726 -0.022339   \n2021-06-30  0.099109  0.160649  0.045929  0.018041  0.021129 -0.016395   \n2021-07-31  0.064982  0.061454 -0.027533  0.055433  0.100137  0.041731   \n2021-08-31  0.042489  0.067677 -0.022587 -0.002815 -0.034379  0.024944   \n2021-09-30  0.000000  0.000000  0.000000  0.000000  0.000000  0.000000   \n\n                ALGN      AMAT       AMD      AMGN  ...      TSLA       TXN  \\\nDate                                                ...                       \n2009-05-31 -0.019071 -0.070801  0.188482  0.027360  ...  0.000000  0.080780   \n2009-06-30 -0.103973 -0.022202 -0.147577  0.060072  ...  0.000000  0.097938   \n2009-07-31  0.029245  0.253406 -0.054264  0.176993  ...  0.000000  0.134266   \n2009-08-31  0.228231 -0.040673  0.191257 -0.040604  ...  0.000000  0.022453   \n2009-09-30  0.061194  0.015174  0.298165  0.007528  ...  0.000000 -0.036600   \n...              ...       ...       ...       ...  ...       ...       ...   \n2021-05-31 -0.009034  0.042661 -0.018868 -0.000112  ... -0.118713  0.051576   \n2021-06-30  0.035330  0.030913  0.172952  0.024418  ...  0.087137  0.013065   \n2021-07-31  0.138789 -0.017346  0.130523 -0.009067  ...  0.011034 -0.003208   \n2021-08-31  0.018971 -0.032536  0.042659 -0.059073  ...  0.070605  0.001521   \n2021-09-30  0.000000  0.000000  0.000000  0.000000  ...  0.000000  0.000000   \n\n                VRSK      VRSN      VRTX       WBA      WDAY       XEL  \\\nDate                                                                     \n2009-05-31  0.000000  0.099577 -0.016193 -0.051695  0.000000 -0.067428   \n2009-06-30  0.000000 -0.208885  0.208263 -0.013091  0.000000  0.088101   \n2009-07-31  0.000000  0.103672  0.001112  0.056122  0.000000  0.083107   \n2009-08-31  0.000000  0.036693  0.038878  0.096051  0.000000 -0.009529   \n2009-09-30  0.000000  0.117980  0.013098  0.105962  0.000000 -0.013765   \n...              ...       ...       ...       ...       ...       ...   \n2021-05-31 -0.081668  0.005257 -0.043859  0.000254 -0.074008 -0.005891   \n2021-06-30  0.012641  0.035331 -0.033552 -0.000949  0.043809 -0.064380   \n2021-07-31  0.087111 -0.049717 -0.000248 -0.103783 -0.018179  0.035975   \n2021-08-31  0.062230 -0.000508 -0.006399  0.086951  0.165358  0.007326   \n2021-09-30  0.000000  0.000000  0.000000  0.000000  0.000000  0.000000   \n\n                XLNX        ZM  \nDate                            \n2009-05-31  0.021823  0.000000  \n2009-06-30 -0.013500  0.000000  \n2009-07-31  0.060117  0.000000  \n2009-08-31  0.032019  0.000000  \n2009-09-30  0.053057  0.000000  \n...              ...       ...  \n2021-05-31 -0.007502  0.037425  \n2021-06-30  0.138898  0.167406  \n2021-07-31  0.035951 -0.023073  \n2021-08-31  0.038374 -0.234330  \n2021-09-30  0.000000  0.000000  \n\n[149 rows x 102 columns]",
      "text/html": "<div>\n<style scoped>\n    .dataframe tbody tr th:only-of-type {\n        vertical-align: middle;\n    }\n\n    .dataframe tbody tr th {\n        vertical-align: top;\n    }\n\n    .dataframe thead th {\n        text-align: right;\n    }\n</style>\n<table border=\"1\" class=\"dataframe\">\n  <thead>\n    <tr style=\"text-align: right;\">\n      <th></th>\n      <th>AAPL</th>\n      <th>ADBE</th>\n      <th>ADI</th>\n      <th>ADP</th>\n      <th>ADSK</th>\n      <th>AEP</th>\n      <th>ALGN</th>\n      <th>AMAT</th>\n      <th>AMD</th>\n      <th>AMGN</th>\n      <th>...</th>\n      <th>TSLA</th>\n      <th>TXN</th>\n      <th>VRSK</th>\n      <th>VRSN</th>\n      <th>VRTX</th>\n      <th>WBA</th>\n      <th>WDAY</th>\n      <th>XEL</th>\n      <th>XLNX</th>\n      <th>ZM</th>\n    </tr>\n    <tr>\n      <th>Date</th>\n      <th></th>\n      <th></th>\n      <th></th>\n      <th></th>\n      <th></th>\n      <th></th>\n      <th></th>\n      <th></th>\n      <th></th>\n      <th></th>\n      <th></th>\n      <th></th>\n      <th></th>\n      <th></th>\n      <th></th>\n      <th></th>\n      <th></th>\n      <th></th>\n      <th></th>\n      <th></th>\n      <th></th>\n    </tr>\n  </thead>\n  <tbody>\n    <tr>\n      <th>2009-05-31</th>\n      <td>0.067353</td>\n      <td>0.026220</td>\n      <td>0.163976</td>\n      <td>0.070102</td>\n      <td>0.093225</td>\n      <td>-0.007029</td>\n      <td>-0.019071</td>\n      <td>-0.070801</td>\n      <td>0.188482</td>\n      <td>0.027360</td>\n      <td>...</td>\n      <td>0.000000</td>\n      <td>0.080780</td>\n      <td>0.000000</td>\n      <td>0.099577</td>\n      <td>-0.016193</td>\n      <td>-0.051695</td>\n      <td>0.000000</td>\n      <td>-0.067428</td>\n      <td>0.021823</td>\n      <td>0.000000</td>\n    </tr>\n    <tr>\n      <th>2009-06-30</th>\n      <td>0.048744</td>\n      <td>0.004258</td>\n      <td>0.015158</td>\n      <td>-0.059511</td>\n      <td>-0.115564</td>\n      <td>0.096811</td>\n      <td>-0.103973</td>\n      <td>-0.022202</td>\n      <td>-0.147577</td>\n      <td>0.060072</td>\n      <td>...</td>\n      <td>0.000000</td>\n      <td>0.097938</td>\n      <td>0.000000</td>\n      <td>-0.208885</td>\n      <td>0.208263</td>\n      <td>-0.013091</td>\n      <td>0.000000</td>\n      <td>0.088101</td>\n      <td>-0.013500</td>\n      <td>0.000000</td>\n    </tr>\n    <tr>\n      <th>2009-07-31</th>\n      <td>0.147160</td>\n      <td>0.145583</td>\n      <td>0.104520</td>\n      <td>0.051072</td>\n      <td>0.149104</td>\n      <td>0.071651</td>\n      <td>0.029245</td>\n      <td>0.253406</td>\n      <td>-0.054264</td>\n      <td>0.176993</td>\n      <td>...</td>\n      <td>0.000000</td>\n      <td>0.134266</td>\n      <td>0.000000</td>\n      <td>0.103672</td>\n      <td>0.001112</td>\n      <td>0.056122</td>\n      <td>0.000000</td>\n      <td>0.083107</td>\n      <td>0.060117</td>\n      <td>0.000000</td>\n    </tr>\n    <tr>\n      <th>2009-08-31</th>\n      <td>0.029500</td>\n      <td>-0.030845</td>\n      <td>0.039514</td>\n      <td>0.029530</td>\n      <td>0.074278</td>\n      <td>0.028873</td>\n      <td>0.228231</td>\n      <td>-0.040673</td>\n      <td>0.191257</td>\n      <td>-0.040604</td>\n      <td>...</td>\n      <td>0.000000</td>\n      <td>0.022453</td>\n      <td>0.000000</td>\n      <td>0.036693</td>\n      <td>0.038878</td>\n      <td>0.096051</td>\n      <td>0.000000</td>\n      <td>-0.009529</td>\n      <td>0.032019</td>\n      <td>0.000000</td>\n    </tr>\n    <tr>\n      <th>2009-09-30</th>\n      <td>0.101896</td>\n      <td>0.051560</td>\n      <td>-0.023716</td>\n      <td>0.033574</td>\n      <td>0.015792</td>\n      <td>-0.013999</td>\n      <td>0.061194</td>\n      <td>0.015174</td>\n      <td>0.298165</td>\n      <td>0.007528</td>\n      <td>...</td>\n      <td>0.000000</td>\n      <td>-0.036600</td>\n      <td>0.000000</td>\n      <td>0.117980</td>\n      <td>0.013098</td>\n      <td>0.105962</td>\n      <td>0.000000</td>\n      <td>-0.013765</td>\n      <td>0.053057</td>\n      <td>0.000000</td>\n    </tr>\n    <tr>\n      <th>...</th>\n      <td>...</td>\n      <td>...</td>\n      <td>...</td>\n      <td>...</td>\n      <td>...</td>\n      <td>...</td>\n      <td>...</td>\n      <td>...</td>\n      <td>...</td>\n      <td>...</td>\n      <td>...</td>\n      <td>...</td>\n      <td>...</td>\n      <td>...</td>\n      <td>...</td>\n      <td>...</td>\n      <td>...</td>\n      <td>...</td>\n      <td>...</td>\n      <td>...</td>\n      <td>...</td>\n    </tr>\n    <tr>\n      <th>2021-05-31</th>\n      <td>-0.050497</td>\n      <td>-0.007397</td>\n      <td>0.079237</td>\n      <td>0.048291</td>\n      <td>-0.020726</td>\n      <td>-0.022339</td>\n      <td>-0.009034</td>\n      <td>0.042661</td>\n      <td>-0.018868</td>\n      <td>-0.000112</td>\n      <td>...</td>\n      <td>-0.118713</td>\n      <td>0.051576</td>\n      <td>-0.081668</td>\n      <td>0.005257</td>\n      <td>-0.043859</td>\n      <td>0.000254</td>\n      <td>-0.074008</td>\n      <td>-0.005891</td>\n      <td>-0.007502</td>\n      <td>0.037425</td>\n    </tr>\n    <tr>\n      <th>2021-06-30</th>\n      <td>0.099109</td>\n      <td>0.160649</td>\n      <td>0.045929</td>\n      <td>0.018041</td>\n      <td>0.021129</td>\n      <td>-0.016395</td>\n      <td>0.035330</td>\n      <td>0.030913</td>\n      <td>0.172952</td>\n      <td>0.024418</td>\n      <td>...</td>\n      <td>0.087137</td>\n      <td>0.013065</td>\n      <td>0.012641</td>\n      <td>0.035331</td>\n      <td>-0.033552</td>\n      <td>-0.000949</td>\n      <td>0.043809</td>\n      <td>-0.064380</td>\n      <td>0.138898</td>\n      <td>0.167406</td>\n    </tr>\n    <tr>\n      <th>2021-07-31</th>\n      <td>0.064982</td>\n      <td>0.061454</td>\n      <td>-0.027533</td>\n      <td>0.055433</td>\n      <td>0.100137</td>\n      <td>0.041731</td>\n      <td>0.138789</td>\n      <td>-0.017346</td>\n      <td>0.130523</td>\n      <td>-0.009067</td>\n      <td>...</td>\n      <td>0.011034</td>\n      <td>-0.003208</td>\n      <td>0.087111</td>\n      <td>-0.049717</td>\n      <td>-0.000248</td>\n      <td>-0.103783</td>\n      <td>-0.018179</td>\n      <td>0.035975</td>\n      <td>0.035951</td>\n      <td>-0.023073</td>\n    </tr>\n    <tr>\n      <th>2021-08-31</th>\n      <td>0.042489</td>\n      <td>0.067677</td>\n      <td>-0.022587</td>\n      <td>-0.002815</td>\n      <td>-0.034379</td>\n      <td>0.024944</td>\n      <td>0.018971</td>\n      <td>-0.032536</td>\n      <td>0.042659</td>\n      <td>-0.059073</td>\n      <td>...</td>\n      <td>0.070605</td>\n      <td>0.001521</td>\n      <td>0.062230</td>\n      <td>-0.000508</td>\n      <td>-0.006399</td>\n      <td>0.086951</td>\n      <td>0.165358</td>\n      <td>0.007326</td>\n      <td>0.038374</td>\n      <td>-0.234330</td>\n    </tr>\n    <tr>\n      <th>2021-09-30</th>\n      <td>0.000000</td>\n      <td>0.000000</td>\n      <td>0.000000</td>\n      <td>0.000000</td>\n      <td>0.000000</td>\n      <td>0.000000</td>\n      <td>0.000000</td>\n      <td>0.000000</td>\n      <td>0.000000</td>\n      <td>0.000000</td>\n      <td>...</td>\n      <td>0.000000</td>\n      <td>0.000000</td>\n      <td>0.000000</td>\n      <td>0.000000</td>\n      <td>0.000000</td>\n      <td>0.000000</td>\n      <td>0.000000</td>\n      <td>0.000000</td>\n      <td>0.000000</td>\n      <td>0.000000</td>\n    </tr>\n  </tbody>\n</table>\n<p>149 rows × 102 columns</p>\n</div>"
     },
     "execution_count": 55,
     "metadata": {},
     "output_type": "execute_result"
    }
   ],
   "source": [
    "monthly_return"
   ],
   "metadata": {
    "collapsed": false,
    "pycharm": {
     "name": "#%%\n"
    }
   }
  },
  {
   "cell_type": "code",
   "execution_count": 56,
   "outputs": [],
   "source": [
    "past_11 = (monthly_return+1).rolling(11).apply(np.prod) - 1"
   ],
   "metadata": {
    "collapsed": false,
    "pycharm": {
     "name": "#%%\n"
    }
   }
  },
  {
   "cell_type": "code",
   "execution_count": 57,
   "outputs": [
    {
     "data": {
      "text/plain": "                AAPL      ADBE       ADI       ADP      ADSK       AEP  \\\nDate                                                                     \n2009-05-31       NaN       NaN       NaN       NaN       NaN       NaN   \n2009-06-30       NaN       NaN       NaN       NaN       NaN       NaN   \n2009-07-31       NaN       NaN       NaN       NaN       NaN       NaN   \n2009-08-31       NaN       NaN       NaN       NaN       NaN       NaN   \n2009-09-30       NaN       NaN       NaN       NaN       NaN       NaN   \n...              ...       ...       ...       ...       ...       ...   \n2021-05-31  0.375544  0.159128  0.366612  0.339298  0.195117  0.117227   \n2021-06-30  0.297599  0.318059  0.526331  0.527392  0.234615  0.007334   \n2021-07-31  0.135915  0.210834  0.451024  0.540433  0.307000  0.147048   \n2021-08-31  0.319459  0.353302  0.419950  0.521537  0.342323  0.133944   \n2021-09-30  0.403698  0.484455  0.398507  0.343627  0.316507  0.030549   \n\n                ALGN      AMAT       AMD      AMGN  ...      TSLA       TXN  \\\nDate                                                ...                       \n2009-05-31       NaN       NaN       NaN       NaN  ...       NaN       NaN   \n2009-06-30       NaN       NaN       NaN       NaN  ...       NaN       NaN   \n2009-07-31       NaN       NaN       NaN       NaN  ...       NaN       NaN   \n2009-08-31       NaN       NaN       NaN       NaN  ...       NaN       NaN   \n2009-09-30       NaN       NaN       NaN       NaN  ...       NaN       NaN   \n...              ...       ...       ...       ...  ...       ...       ...   \n2021-05-31  1.150379  1.307816  0.522144  0.037321  ...  1.895046  0.533717   \n2021-06-30  1.079504  1.235661  0.213096  0.024386  ...  1.375311  0.536115   \n2021-07-31  1.342919  1.286646  0.169236 -0.026087  ...  0.379034  0.373921   \n2021-08-31  1.165811  1.292252  0.350409 -0.086648  ...  0.714925  0.369844   \n2021-09-30  0.664007  1.300767  0.470580  0.070054  ...  0.895990  0.343142   \n\n                VRSK      VRSN      VRTX       WBA      WDAY       XEL  \\\nDate                                                                     \n2009-05-31       NaN       NaN       NaN       NaN       NaN       NaN   \n2009-06-30       NaN       NaN       NaN       NaN       NaN       NaN   \n2009-07-31       NaN       NaN       NaN       NaN       NaN       NaN   \n2009-08-31       NaN       NaN       NaN       NaN       NaN       NaN   \n2009-09-30       NaN       NaN       NaN       NaN       NaN       NaN   \n...              ...       ...       ...       ...       ...       ...   \n2021-05-31  0.020089  0.063289 -0.281354  0.294663  0.220751  0.157329   \n2021-06-30 -0.068338  0.075633 -0.258713  0.346810  0.319589 -0.019753   \n2021-07-31  0.023888  0.007309 -0.277802  0.277747 -0.022152  0.009226   \n2021-08-31  0.093958  0.055699 -0.263964  0.470045  0.269744  0.017005   \n2021-09-30  0.139077  0.134033 -0.038731  0.551234  0.300019  0.002192   \n\n                XLNX        ZM  \nDate                            \n2009-05-31       NaN       NaN  \n2009-06-30       NaN       NaN  \n2009-07-31       NaN       NaN  \n2009-08-31       NaN       NaN  \n2009-09-30       NaN       NaN  \n...              ...       ...  \n2021-05-31  0.299168  0.307604  \n2021-06-30  0.356123  0.524280  \n2021-07-31  0.442643  0.163027  \n2021-08-31  0.496854 -0.384187  \n2021-09-30  0.314619 -0.371895  \n\n[149 rows x 102 columns]",
      "text/html": "<div>\n<style scoped>\n    .dataframe tbody tr th:only-of-type {\n        vertical-align: middle;\n    }\n\n    .dataframe tbody tr th {\n        vertical-align: top;\n    }\n\n    .dataframe thead th {\n        text-align: right;\n    }\n</style>\n<table border=\"1\" class=\"dataframe\">\n  <thead>\n    <tr style=\"text-align: right;\">\n      <th></th>\n      <th>AAPL</th>\n      <th>ADBE</th>\n      <th>ADI</th>\n      <th>ADP</th>\n      <th>ADSK</th>\n      <th>AEP</th>\n      <th>ALGN</th>\n      <th>AMAT</th>\n      <th>AMD</th>\n      <th>AMGN</th>\n      <th>...</th>\n      <th>TSLA</th>\n      <th>TXN</th>\n      <th>VRSK</th>\n      <th>VRSN</th>\n      <th>VRTX</th>\n      <th>WBA</th>\n      <th>WDAY</th>\n      <th>XEL</th>\n      <th>XLNX</th>\n      <th>ZM</th>\n    </tr>\n    <tr>\n      <th>Date</th>\n      <th></th>\n      <th></th>\n      <th></th>\n      <th></th>\n      <th></th>\n      <th></th>\n      <th></th>\n      <th></th>\n      <th></th>\n      <th></th>\n      <th></th>\n      <th></th>\n      <th></th>\n      <th></th>\n      <th></th>\n      <th></th>\n      <th></th>\n      <th></th>\n      <th></th>\n      <th></th>\n      <th></th>\n    </tr>\n  </thead>\n  <tbody>\n    <tr>\n      <th>2009-05-31</th>\n      <td>NaN</td>\n      <td>NaN</td>\n      <td>NaN</td>\n      <td>NaN</td>\n      <td>NaN</td>\n      <td>NaN</td>\n      <td>NaN</td>\n      <td>NaN</td>\n      <td>NaN</td>\n      <td>NaN</td>\n      <td>...</td>\n      <td>NaN</td>\n      <td>NaN</td>\n      <td>NaN</td>\n      <td>NaN</td>\n      <td>NaN</td>\n      <td>NaN</td>\n      <td>NaN</td>\n      <td>NaN</td>\n      <td>NaN</td>\n      <td>NaN</td>\n    </tr>\n    <tr>\n      <th>2009-06-30</th>\n      <td>NaN</td>\n      <td>NaN</td>\n      <td>NaN</td>\n      <td>NaN</td>\n      <td>NaN</td>\n      <td>NaN</td>\n      <td>NaN</td>\n      <td>NaN</td>\n      <td>NaN</td>\n      <td>NaN</td>\n      <td>...</td>\n      <td>NaN</td>\n      <td>NaN</td>\n      <td>NaN</td>\n      <td>NaN</td>\n      <td>NaN</td>\n      <td>NaN</td>\n      <td>NaN</td>\n      <td>NaN</td>\n      <td>NaN</td>\n      <td>NaN</td>\n    </tr>\n    <tr>\n      <th>2009-07-31</th>\n      <td>NaN</td>\n      <td>NaN</td>\n      <td>NaN</td>\n      <td>NaN</td>\n      <td>NaN</td>\n      <td>NaN</td>\n      <td>NaN</td>\n      <td>NaN</td>\n      <td>NaN</td>\n      <td>NaN</td>\n      <td>...</td>\n      <td>NaN</td>\n      <td>NaN</td>\n      <td>NaN</td>\n      <td>NaN</td>\n      <td>NaN</td>\n      <td>NaN</td>\n      <td>NaN</td>\n      <td>NaN</td>\n      <td>NaN</td>\n      <td>NaN</td>\n    </tr>\n    <tr>\n      <th>2009-08-31</th>\n      <td>NaN</td>\n      <td>NaN</td>\n      <td>NaN</td>\n      <td>NaN</td>\n      <td>NaN</td>\n      <td>NaN</td>\n      <td>NaN</td>\n      <td>NaN</td>\n      <td>NaN</td>\n      <td>NaN</td>\n      <td>...</td>\n      <td>NaN</td>\n      <td>NaN</td>\n      <td>NaN</td>\n      <td>NaN</td>\n      <td>NaN</td>\n      <td>NaN</td>\n      <td>NaN</td>\n      <td>NaN</td>\n      <td>NaN</td>\n      <td>NaN</td>\n    </tr>\n    <tr>\n      <th>2009-09-30</th>\n      <td>NaN</td>\n      <td>NaN</td>\n      <td>NaN</td>\n      <td>NaN</td>\n      <td>NaN</td>\n      <td>NaN</td>\n      <td>NaN</td>\n      <td>NaN</td>\n      <td>NaN</td>\n      <td>NaN</td>\n      <td>...</td>\n      <td>NaN</td>\n      <td>NaN</td>\n      <td>NaN</td>\n      <td>NaN</td>\n      <td>NaN</td>\n      <td>NaN</td>\n      <td>NaN</td>\n      <td>NaN</td>\n      <td>NaN</td>\n      <td>NaN</td>\n    </tr>\n    <tr>\n      <th>...</th>\n      <td>...</td>\n      <td>...</td>\n      <td>...</td>\n      <td>...</td>\n      <td>...</td>\n      <td>...</td>\n      <td>...</td>\n      <td>...</td>\n      <td>...</td>\n      <td>...</td>\n      <td>...</td>\n      <td>...</td>\n      <td>...</td>\n      <td>...</td>\n      <td>...</td>\n      <td>...</td>\n      <td>...</td>\n      <td>...</td>\n      <td>...</td>\n      <td>...</td>\n      <td>...</td>\n    </tr>\n    <tr>\n      <th>2021-05-31</th>\n      <td>0.375544</td>\n      <td>0.159128</td>\n      <td>0.366612</td>\n      <td>0.339298</td>\n      <td>0.195117</td>\n      <td>0.117227</td>\n      <td>1.150379</td>\n      <td>1.307816</td>\n      <td>0.522144</td>\n      <td>0.037321</td>\n      <td>...</td>\n      <td>1.895046</td>\n      <td>0.533717</td>\n      <td>0.020089</td>\n      <td>0.063289</td>\n      <td>-0.281354</td>\n      <td>0.294663</td>\n      <td>0.220751</td>\n      <td>0.157329</td>\n      <td>0.299168</td>\n      <td>0.307604</td>\n    </tr>\n    <tr>\n      <th>2021-06-30</th>\n      <td>0.297599</td>\n      <td>0.318059</td>\n      <td>0.526331</td>\n      <td>0.527392</td>\n      <td>0.234615</td>\n      <td>0.007334</td>\n      <td>1.079504</td>\n      <td>1.235661</td>\n      <td>0.213096</td>\n      <td>0.024386</td>\n      <td>...</td>\n      <td>1.375311</td>\n      <td>0.536115</td>\n      <td>-0.068338</td>\n      <td>0.075633</td>\n      <td>-0.258713</td>\n      <td>0.346810</td>\n      <td>0.319589</td>\n      <td>-0.019753</td>\n      <td>0.356123</td>\n      <td>0.524280</td>\n    </tr>\n    <tr>\n      <th>2021-07-31</th>\n      <td>0.135915</td>\n      <td>0.210834</td>\n      <td>0.451024</td>\n      <td>0.540433</td>\n      <td>0.307000</td>\n      <td>0.147048</td>\n      <td>1.342919</td>\n      <td>1.286646</td>\n      <td>0.169236</td>\n      <td>-0.026087</td>\n      <td>...</td>\n      <td>0.379034</td>\n      <td>0.373921</td>\n      <td>0.023888</td>\n      <td>0.007309</td>\n      <td>-0.277802</td>\n      <td>0.277747</td>\n      <td>-0.022152</td>\n      <td>0.009226</td>\n      <td>0.442643</td>\n      <td>0.163027</td>\n    </tr>\n    <tr>\n      <th>2021-08-31</th>\n      <td>0.319459</td>\n      <td>0.353302</td>\n      <td>0.419950</td>\n      <td>0.521537</td>\n      <td>0.342323</td>\n      <td>0.133944</td>\n      <td>1.165811</td>\n      <td>1.292252</td>\n      <td>0.350409</td>\n      <td>-0.086648</td>\n      <td>...</td>\n      <td>0.714925</td>\n      <td>0.369844</td>\n      <td>0.093958</td>\n      <td>0.055699</td>\n      <td>-0.263964</td>\n      <td>0.470045</td>\n      <td>0.269744</td>\n      <td>0.017005</td>\n      <td>0.496854</td>\n      <td>-0.384187</td>\n    </tr>\n    <tr>\n      <th>2021-09-30</th>\n      <td>0.403698</td>\n      <td>0.484455</td>\n      <td>0.398507</td>\n      <td>0.343627</td>\n      <td>0.316507</td>\n      <td>0.030549</td>\n      <td>0.664007</td>\n      <td>1.300767</td>\n      <td>0.470580</td>\n      <td>0.070054</td>\n      <td>...</td>\n      <td>0.895990</td>\n      <td>0.343142</td>\n      <td>0.139077</td>\n      <td>0.134033</td>\n      <td>-0.038731</td>\n      <td>0.551234</td>\n      <td>0.300019</td>\n      <td>0.002192</td>\n      <td>0.314619</td>\n      <td>-0.371895</td>\n    </tr>\n  </tbody>\n</table>\n<p>149 rows × 102 columns</p>\n</div>"
     },
     "execution_count": 57,
     "metadata": {},
     "output_type": "execute_result"
    }
   ],
   "source": [
    "past_11"
   ],
   "metadata": {
    "collapsed": false,
    "pycharm": {
     "name": "#%%\n"
    }
   }
  },
  {
   "cell_type": "code",
   "execution_count": 58,
   "outputs": [],
   "source": [
    "formation = dt.datetime(2011, 5, 31)"
   ],
   "metadata": {
    "collapsed": false,
    "pycharm": {
     "name": "#%%\n"
    }
   }
  },
  {
   "cell_type": "code",
   "execution_count": 59,
   "outputs": [
    {
     "data": {
      "text/plain": "datetime.datetime(2011, 5, 31, 0, 0)"
     },
     "execution_count": 59,
     "metadata": {},
     "output_type": "execute_result"
    }
   ],
   "source": [
    "formation"
   ],
   "metadata": {
    "collapsed": false,
    "pycharm": {
     "name": "#%%\n"
    }
   }
  },
  {
   "cell_type": "code",
   "execution_count": 60,
   "outputs": [
    {
     "data": {
      "text/plain": "[nan,\n 0.011904050851835223,\n 0.054598661028445794,\n -0.006668269724684532,\n 0.03041845175202884,\n 0.07849140658674215,\n 0.05360658554094913,\n 0.042590033416744444,\n 0.07425429616151286,\n 0.020185399809553937]"
     },
     "execution_count": 60,
     "metadata": {},
     "output_type": "execute_result"
    }
   ],
   "source": [
    "# calculate profit using momentum strategy\n",
    "def momentum(formation):\n",
    "    end_measurement = formation - MonthEnd(1) # from last month\n",
    "    return_12 = past_11.loc[end_measurement : end_measurement + MonthEnd(6)]\n",
    "    return_12 = return_12.sum(axis = 0)\n",
    "    return_12 = return_12.reset_index()\n",
    "    # separate monthly return into ten bins\n",
    "    return_12['decile'] = pd.qcut(return_12.iloc[:,1], q = 10, labels=False, duplicates='drop')\n",
    "    # get top winners and losers\n",
    "    winners = return_12[return_12.decile == 9]\n",
    "    losers = return_12[return_12.decile == 0]\n",
    "    winner_return = monthly_return.loc[formation + MonthEnd(1), monthly_return.columns.isin(winners['index'])]\n",
    "    loser_return = monthly_return.loc[formation + MonthEnd(1), monthly_return.columns.isin(losers['index'])]\n",
    "    # profit = winner - loser\n",
    "    momentum_profit = winner_return.mean() - loser_return.mean()\n",
    "    return momentum_profit, return_12\n",
    "\n",
    "profits = []\n",
    "dates = []\n",
    "for i in range(10): # 6 month, 10 steps\n",
    "    date = formation + MonthEnd(i*6)\n",
    "    p, _ = momentum(date)\n",
    "    profits.append(p)\n",
    "    dates.append(date)\n",
    "\n",
    "profits\n"
   ],
   "metadata": {
    "collapsed": false,
    "pycharm": {
     "name": "#%%\n"
    }
   }
  },
  {
   "cell_type": "code",
   "execution_count": 61,
   "outputs": [
    {
     "data": {
      "text/plain": "10"
     },
     "execution_count": 61,
     "metadata": {},
     "output_type": "execute_result"
    }
   ],
   "source": [
    "len(profits)"
   ],
   "metadata": {
    "collapsed": false,
    "pycharm": {
     "name": "#%%\n"
    }
   }
  },
  {
   "cell_type": "code",
   "execution_count": 61,
   "outputs": [],
   "source": [],
   "metadata": {
    "collapsed": false,
    "pycharm": {
     "name": "#%%\n"
    }
   }
  },
  {
   "cell_type": "code",
   "execution_count": 61,
   "outputs": [],
   "source": [],
   "metadata": {
    "collapsed": false,
    "pycharm": {
     "name": "#%%\n"
    }
   }
  },
  {
   "cell_type": "code",
   "execution_count": 62,
   "outputs": [
    {
     "data": {
      "text/plain": "10"
     },
     "execution_count": 62,
     "metadata": {},
     "output_type": "execute_result"
    }
   ],
   "source": [
    "len(profits)"
   ],
   "metadata": {
    "collapsed": false,
    "pycharm": {
     "name": "#%%\n"
    }
   }
  },
  {
   "cell_type": "code",
   "execution_count": 62,
   "outputs": [],
   "source": [],
   "metadata": {
    "collapsed": false,
    "pycharm": {
     "name": "#%%\n"
    }
   }
  },
  {
   "cell_type": "code",
   "execution_count": 63,
   "outputs": [
    {
     "name": "stdout",
     "output_type": "stream",
     "text": [
      "[*********************100%***********************]  1 of 1 completed\n"
     ]
    }
   ],
   "source": [
    "SP = yf.download('^GSPC', start=dates[0], end=dates[-1] +  MonthEnd(6))"
   ],
   "metadata": {
    "collapsed": false,
    "pycharm": {
     "name": "#%%\n"
    }
   }
  },
  {
   "cell_type": "code",
   "execution_count": 64,
   "outputs": [],
   "source": [
    "SP = SP['Adj Close']\n"
   ],
   "metadata": {
    "collapsed": false,
    "pycharm": {
     "name": "#%%\n"
    }
   }
  },
  {
   "cell_type": "code",
   "execution_count": 65,
   "outputs": [],
   "source": [
    "SP_monthly_return = SP.pct_change().resample('M').agg(lambda x: (x+1).prod() -1)\n"
   ],
   "metadata": {
    "collapsed": false,
    "pycharm": {
     "name": "#%%\n"
    }
   }
  },
  {
   "cell_type": "code",
   "execution_count": 66,
   "outputs": [],
   "source": [
    "SP_monthly_return = SP_monthly_return[1:]\n"
   ],
   "metadata": {
    "collapsed": false,
    "pycharm": {
     "name": "#%%\n"
    }
   }
  },
  {
   "cell_type": "code",
   "execution_count": 67,
   "outputs": [],
   "source": [
    "s_p500_6_month = []\n",
    "for i in range(10):\n",
    "    s_p500_6_month.append(SP_monthly_return[i:i+6].sum())"
   ],
   "metadata": {
    "collapsed": false,
    "pycharm": {
     "name": "#%%\n"
    }
   }
  },
  {
   "cell_type": "code",
   "execution_count": 68,
   "outputs": [
    {
     "data": {
      "text/plain": "[-0.06562065966194275,\n -0.03883043434282718,\n 0.02622705366882494,\n 0.12360762538927217,\n 0.22670192800161015,\n 0.11148143719167247,\n 0.05388942658414042,\n 0.08491164514584126,\n 0.05392615664564426,\n 0.033100062383612516]"
     },
     "execution_count": 68,
     "metadata": {},
     "output_type": "execute_result"
    }
   ],
   "source": [
    "s_p500_6_month"
   ],
   "metadata": {
    "collapsed": false,
    "pycharm": {
     "name": "#%%\n"
    }
   }
  },
  {
   "cell_type": "code",
   "execution_count": 69,
   "outputs": [],
   "source": [
    "s_p500_6_month = pd.DataFrame(s_p500_6_month)\n"
   ],
   "metadata": {
    "collapsed": false,
    "pycharm": {
     "name": "#%%\n"
    }
   }
  },
  {
   "cell_type": "code",
   "execution_count": 70,
   "outputs": [],
   "source": [
    "frame = pd.DataFrame(profits)\n"
   ],
   "metadata": {
    "collapsed": false,
    "pycharm": {
     "name": "#%%\n"
    }
   }
  },
  {
   "cell_type": "code",
   "execution_count": 71,
   "outputs": [],
   "source": [
    "frame['S_P500'] = s_p500_6_month.values"
   ],
   "metadata": {
    "collapsed": false,
    "pycharm": {
     "name": "#%%\n"
    }
   }
  },
  {
   "cell_type": "code",
   "execution_count": 72,
   "outputs": [],
   "source": [
    "frame['excess'] = frame.iloc[:,0] - frame.iloc[:,1]"
   ],
   "metadata": {
    "collapsed": false,
    "pycharm": {
     "name": "#%%\n"
    }
   }
  },
  {
   "cell_type": "code",
   "execution_count": 73,
   "outputs": [],
   "source": [
    "frame['outperformed'] = ['Yes' if i > 0 else 'No' for i in frame.excess]"
   ],
   "metadata": {
    "collapsed": false,
    "pycharm": {
     "name": "#%%\n"
    }
   }
  },
  {
   "cell_type": "code",
   "execution_count": 74,
   "outputs": [
    {
     "data": {
      "text/plain": "          0    S_P500    excess outperformed\n0       NaN -0.065621       NaN           No\n1  0.011904 -0.038830  0.050734          Yes\n2  0.054599  0.026227  0.028372          Yes\n3 -0.006668  0.123608 -0.130276           No\n4  0.030418  0.226702 -0.196283           No\n5  0.078491  0.111481 -0.032990           No\n6  0.053607  0.053889 -0.000283           No\n7  0.042590  0.084912 -0.042322           No\n8  0.074254  0.053926  0.020328          Yes\n9  0.020185  0.033100 -0.012915           No",
      "text/html": "<div>\n<style scoped>\n    .dataframe tbody tr th:only-of-type {\n        vertical-align: middle;\n    }\n\n    .dataframe tbody tr th {\n        vertical-align: top;\n    }\n\n    .dataframe thead th {\n        text-align: right;\n    }\n</style>\n<table border=\"1\" class=\"dataframe\">\n  <thead>\n    <tr style=\"text-align: right;\">\n      <th></th>\n      <th>0</th>\n      <th>S_P500</th>\n      <th>excess</th>\n      <th>outperformed</th>\n    </tr>\n  </thead>\n  <tbody>\n    <tr>\n      <th>0</th>\n      <td>NaN</td>\n      <td>-0.065621</td>\n      <td>NaN</td>\n      <td>No</td>\n    </tr>\n    <tr>\n      <th>1</th>\n      <td>0.011904</td>\n      <td>-0.038830</td>\n      <td>0.050734</td>\n      <td>Yes</td>\n    </tr>\n    <tr>\n      <th>2</th>\n      <td>0.054599</td>\n      <td>0.026227</td>\n      <td>0.028372</td>\n      <td>Yes</td>\n    </tr>\n    <tr>\n      <th>3</th>\n      <td>-0.006668</td>\n      <td>0.123608</td>\n      <td>-0.130276</td>\n      <td>No</td>\n    </tr>\n    <tr>\n      <th>4</th>\n      <td>0.030418</td>\n      <td>0.226702</td>\n      <td>-0.196283</td>\n      <td>No</td>\n    </tr>\n    <tr>\n      <th>5</th>\n      <td>0.078491</td>\n      <td>0.111481</td>\n      <td>-0.032990</td>\n      <td>No</td>\n    </tr>\n    <tr>\n      <th>6</th>\n      <td>0.053607</td>\n      <td>0.053889</td>\n      <td>-0.000283</td>\n      <td>No</td>\n    </tr>\n    <tr>\n      <th>7</th>\n      <td>0.042590</td>\n      <td>0.084912</td>\n      <td>-0.042322</td>\n      <td>No</td>\n    </tr>\n    <tr>\n      <th>8</th>\n      <td>0.074254</td>\n      <td>0.053926</td>\n      <td>0.020328</td>\n      <td>Yes</td>\n    </tr>\n    <tr>\n      <th>9</th>\n      <td>0.020185</td>\n      <td>0.033100</td>\n      <td>-0.012915</td>\n      <td>No</td>\n    </tr>\n  </tbody>\n</table>\n</div>"
     },
     "execution_count": 74,
     "metadata": {},
     "output_type": "execute_result"
    }
   ],
   "source": [
    "frame\n"
   ],
   "metadata": {
    "collapsed": false,
    "pycharm": {
     "name": "#%%\n"
    }
   }
  },
  {
   "cell_type": "code",
   "execution_count": 75,
   "outputs": [
    {
     "data": {
      "text/plain": "(3, 4)"
     },
     "execution_count": 75,
     "metadata": {},
     "output_type": "execute_result"
    }
   ],
   "source": [
    "frame[frame.outperformed == \"Yes\"].shape"
   ],
   "metadata": {
    "collapsed": false,
    "pycharm": {
     "name": "#%%\n"
    }
   }
  },
  {
   "cell_type": "code",
   "execution_count": 76,
   "outputs": [
    {
     "data": {
      "text/plain": "(10, 4)"
     },
     "execution_count": 76,
     "metadata": {},
     "output_type": "execute_result"
    }
   ],
   "source": [
    "frame.shape"
   ],
   "metadata": {
    "collapsed": false,
    "pycharm": {
     "name": "#%%\n"
    }
   }
  },
  {
   "cell_type": "code",
   "execution_count": 77,
   "outputs": [
    {
     "data": {
      "text/plain": "0.3"
     },
     "execution_count": 77,
     "metadata": {},
     "output_type": "execute_result"
    }
   ],
   "source": [
    "# wining percentage\n",
    "frame[frame.outperformed == \"Yes\"].shape[0] / frame.shape[0]"
   ],
   "metadata": {
    "collapsed": false,
    "pycharm": {
     "name": "#%%\n"
    }
   }
  },
  {
   "cell_type": "code",
   "execution_count": 78,
   "outputs": [],
   "source": [
    "import seaborn as sns\n",
    "sns.set()"
   ],
   "metadata": {
    "collapsed": false,
    "pycharm": {
     "name": "#%%\n"
    }
   }
  },
  {
   "cell_type": "code",
   "execution_count": 79,
   "outputs": [],
   "source": [
    "frame = frame.rename(columns={ 0 :'Strategy'})"
   ],
   "metadata": {
    "collapsed": false,
    "pycharm": {
     "name": "#%%\n"
    }
   }
  },
  {
   "cell_type": "code",
   "execution_count": 80,
   "outputs": [],
   "source": [
    "frame['index'] = list(frame.index)"
   ],
   "metadata": {
    "collapsed": false,
    "pycharm": {
     "name": "#%%\n"
    }
   }
  },
  {
   "cell_type": "code",
   "execution_count": 81,
   "outputs": [],
   "source": [
    "sns.set(rc={'figure.figsize':(13.7,9.27)})"
   ],
   "metadata": {
    "collapsed": false,
    "pycharm": {
     "name": "#%%\n"
    }
   }
  },
  {
   "cell_type": "code",
   "execution_count": 82,
   "outputs": [
    {
     "data": {
      "text/plain": "Text(0.5, 1.0, 'Nasdaq 100')"
     },
     "execution_count": 82,
     "metadata": {},
     "output_type": "execute_result"
    },
    {
     "data": {
      "text/plain": "<Figure size 986.4x667.44 with 1 Axes>",
      "image/png": "[encoded data removed]"
     },
     "metadata": {},
     "output_type": "display_data"
    }
   ],
   "source": [
    "ax = sns.barplot(data=frame, x = \"index\", y = \"S_P500\")\n",
    "ax.set_xlabel('Month')\n",
    "ax.set_ylabel('Return %')\n",
    "ax.set_title('Nasdaq 100')"
   ],
   "metadata": {
    "collapsed": false,
    "pycharm": {
     "name": "#%%\n"
    }
   }
  },
  {
   "cell_type": "code",
   "execution_count": 83,
   "outputs": [
    {
     "data": {
      "text/plain": "Text(0.5, 1.0, 'Strategy')"
     },
     "execution_count": 83,
     "metadata": {},
     "output_type": "execute_result"
    },
    {
     "data": {
      "text/plain": "<Figure size 986.4x667.44 with 1 Axes>",
      "image/png": "[encoded data removed]"
     },
     "metadata": {},
     "output_type": "display_data"
    }
   ],
   "source": [
    "ax = sns.barplot(data=frame, x = \"index\", y = \"Strategy\")\n",
    "ax.set_xlabel('Month')\n",
    "ax.set_ylabel('Return %')\n",
    "ax.set_title('Strategy')"
   ],
   "metadata": {
    "collapsed": false,
    "pycharm": {
     "name": "#%%\n"
    }
   }
  },
  {
   "cell_type": "code",
   "execution_count": 83,
   "outputs": [],
   "source": [],
   "metadata": {
    "collapsed": false,
    "pycharm": {
     "name": "#%%\n"
    }
   }
  },
  {
   "cell_type": "code",
   "execution_count": 83,
   "outputs": [],
   "source": [],
   "metadata": {
    "collapsed": false,
    "pycharm": {
     "name": "#%%\n"
    }
   }
  }
 ],
 "metadata": {
  "kernelspec": {
   "display_name": "Python 3",
   "language": "python",
   "name": "python3"
  },
  "language_info": {
   "codemirror_mode": {
    "name": "ipython",
    "version": 2
   },
   "file_extension": ".py",
   "mimetype": "text/x-python",
   "name": "python",
   "nbconvert_exporter": "python",
   "pygments_lexer": "ipython2",
   "version": "2.7.6"
  }
 },
 "nbformat": 4,
 "nbformat_minor": 0
}