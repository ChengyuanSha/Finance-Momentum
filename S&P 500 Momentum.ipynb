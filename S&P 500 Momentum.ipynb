{
 "cells": [
  {
   "cell_type": "code",
   "execution_count": 1,
   "metadata": {
    "collapsed": true
   },
   "outputs": [],
   "source": [
    "import yfinance as yf\n",
    "import numpy as np\n",
    "import pandas as pd\n",
    "import datetime as dt\n",
    "from pandas.tseries.offsets import MonthEnd"
   ]
  },
  {
   "cell_type": "code",
   "source": [
    "# get ticket symbols for all S&P 500"
   ],
   "metadata": {
    "collapsed": false,
    "pycharm": {
     "name": "#%%\n"
    }
   },
   "execution_count": 2,
   "outputs": []
  },
  {
   "cell_type": "code",
   "execution_count": 3,
   "outputs": [],
   "source": [
    "df = pd.read_csv('S&P500.csv')"
   ],
   "metadata": {
    "collapsed": false,
    "pycharm": {
     "name": "#%%\n"
    }
   }
  },
  {
   "cell_type": "code",
   "execution_count": 4,
   "outputs": [],
   "source": [
    "tickers = df['Symbol'].tolist()"
   ],
   "metadata": {
    "collapsed": false,
    "pycharm": {
     "name": "#%%\n"
    }
   }
  },
  {
   "cell_type": "code",
   "execution_count": 5,
   "outputs": [
    {
     "name": "stdout",
     "output_type": "stream",
     "text": [
      "[*********************100%***********************]  505 of 505 completed\n",
      "\n",
      "2 Failed downloads:\n",
      "- BRK.B: No data found, symbol may be delisted\n",
      "- BF.B: None\n"
     ]
    }
   ],
   "source": [
    "# 2009 12 31, 2020 12 31\n",
    "df_yf = yf.download(tickers, start='2009-05-01', end='2021-09-01')"
   ],
   "metadata": {
    "collapsed": false,
    "pycharm": {
     "name": "#%%\n"
    }
   }
  },
  {
   "cell_type": "code",
   "execution_count": 6,
   "outputs": [
    {
     "data": {
      "text/plain": "             Adj Close                                                 \\\n                     A        AAL         AAP        AAPL        ABBV   \nDate                                                                    \n2009-05-01   12.296722   3.780394   40.376686    3.907646         NaN   \n2009-05-04   12.695494   4.317756   41.661350    4.055979         NaN   \n2009-05-05   12.244419   4.666570   40.024590    4.075634         NaN   \n2009-05-06   12.571287   4.713707   40.224419    4.069184         NaN   \n2009-05-07   12.270568   3.742683   39.824730    3.963540         NaN   \n...                ...        ...         ...         ...         ...   \n2021-08-26  173.374115  19.900000  207.807343  147.539993  118.957817   \n2021-08-27  173.593842  20.219999  202.831589  148.600006  118.147644   \n2021-08-30  176.510208  19.510000  200.164581  153.119995  119.125778   \n2021-08-31  175.251785  19.940001  201.866302  151.830002  119.333267   \n2021-09-01         NaN        NaN         NaN         NaN         NaN   \n\n                                                                        ...  \\\n                   ABC        ABMD         ABT         ACN        ADBE  ...   \nDate                                                                    ...   \n2009-05-01   14.225438    6.400000   14.879172   23.016006   27.459999  ...   \n2009-05-04   14.536039    6.550000   15.474052   23.509315   26.690001  ...   \n2009-05-05   14.544325    6.560000   15.671154   23.447647   26.889999  ...   \n2009-05-06   14.577453    6.830000   15.384469   23.239532   26.350000  ...   \n2009-05-07   15.061992    6.650000   15.990102   23.170166   25.629999  ...   \n...                ...         ...         ...         ...         ...  ...   \n2021-08-26  116.809998  358.510010  124.987419  332.243622  652.390015  ...   \n2021-08-27  119.889999  358.529999  124.110802  334.666412  658.520020  ...   \n2021-08-30  119.519997  360.959991  125.455612  336.002441  665.989990  ...   \n2021-08-31  122.209999  363.959991  125.883965  335.563751  663.700012  ...   \n2021-09-01         NaN         NaN         NaN         NaN         NaN  ...   \n\n               Volume                                                \\\n                  XEL        XLNX         XOM       XRAY        XYL   \nDate                                                                  \n2009-05-01  2893100.0   5244900.0  27385000.0  4546500.0        NaN   \n2009-05-04  3355300.0   5671800.0  27306100.0  3327200.0        NaN   \n2009-05-05  3783400.0   9367700.0  19910300.0  1883500.0        NaN   \n2009-05-06  3065900.0   7521800.0  30814800.0  1868100.0        NaN   \n2009-05-07  3011800.0  10704000.0  32541600.0  1942800.0        NaN   \n...               ...         ...         ...        ...        ...   \n2021-08-26  1637700.0   1359600.0  11842600.0   794300.0   976600.0   \n2021-08-27  3287400.0   1771700.0  15817900.0  1137200.0   727600.0   \n2021-08-30  1642600.0   1310400.0  14086100.0  1314400.0   564400.0   \n2021-08-31  2696100.0   1816700.0  27104100.0  1591600.0  1088300.0   \n2021-09-01        NaN         NaN         NaN        NaN        NaN   \n\n                                                                    \n                   YUM        ZBH      ZBRA        ZION        ZTS  \nDate                                                                \n2009-05-01   6228203.0  2393100.0  345200.0   2419100.0        NaN  \n2009-05-04  10258764.0  2736300.0  467300.0   5366900.0        NaN  \n2009-05-05   8831181.0  1649200.0  739600.0   3577900.0        NaN  \n2009-05-06  11376572.0  2908300.0  557300.0  12796600.0        NaN  \n2009-05-07   8286743.0  4052700.0  367200.0  11874300.0        NaN  \n...                ...        ...       ...         ...        ...  \n2021-08-26   1541800.0  1094600.0  121100.0   1068700.0   957600.0  \n2021-08-27   1263000.0  1081600.0  317300.0   2410600.0   855300.0  \n2021-08-30   1701400.0   894600.0  175000.0   1777400.0   667800.0  \n2021-08-31   2297300.0  1186500.0  230100.0   1658000.0  1480600.0  \n2021-09-01         NaN        NaN       NaN         NaN        NaN  \n\n[3113 rows x 3030 columns]",
      "text/html": "<div>\n<style scoped>\n    .dataframe tbody tr th:only-of-type {\n        vertical-align: middle;\n    }\n\n    .dataframe tbody tr th {\n        vertical-align: top;\n    }\n\n    .dataframe thead tr th {\n        text-align: left;\n    }\n\n    .dataframe thead tr:last-of-type th {\n        text-align: right;\n    }\n</style>\n<table border=\"1\" class=\"dataframe\">\n  <thead>\n    <tr>\n      <th></th>\n      <th colspan=\"10\" halign=\"left\">Adj Close</th>\n      <th>...</th>\n      <th colspan=\"10\" halign=\"left\">Volume</th>\n    </tr>\n    <tr>\n      <th></th>\n      <th>A</th>\n      <th>AAL</th>\n      <th>AAP</th>\n      <th>AAPL</th>\n      <th>ABBV</th>\n      <th>ABC</th>\n      <th>ABMD</th>\n      <th>ABT</th>\n      <th>ACN</th>\n      <th>ADBE</th>\n      <th>...</th>\n      <th>XEL</th>\n      <th>XLNX</th>\n      <th>XOM</th>\n      <th>XRAY</th>\n      <th>XYL</th>\n      <th>YUM</th>\n      <th>ZBH</th>\n      <th>ZBRA</th>\n      <th>ZION</th>\n      <th>ZTS</th>\n    </tr>\n    <tr>\n      <th>Date</th>\n      <th></th>\n      <th></th>\n      <th></th>\n      <th></th>\n      <th></th>\n      <th></th>\n      <th></th>\n      <th></th>\n      <th></th>\n      <th></th>\n      <th></th>\n      <th></th>\n      <th></th>\n      <th></th>\n      <th></th>\n      <th></th>\n      <th></th>\n      <th></th>\n      <th></th>\n      <th></th>\n      <th></th>\n    </tr>\n  </thead>\n  <tbody>\n    <tr>\n      <th>2009-05-01</th>\n      <td>12.296722</td>\n      <td>3.780394</td>\n      <td>40.376686</td>\n      <td>3.907646</td>\n      <td>NaN</td>\n      <td>14.225438</td>\n      <td>6.400000</td>\n      <td>14.879172</td>\n      <td>23.016006</td>\n      <td>27.459999</td>\n      <td>...</td>\n      <td>2893100.0</td>\n      <td>5244900.0</td>\n      <td>27385000.0</td>\n      <td>4546500.0</td>\n      <td>NaN</td>\n      <td>6228203.0</td>\n      <td>2393100.0</td>\n      <td>345200.0</td>\n      <td>2419100.0</td>\n      <td>NaN</td>\n    </tr>\n    <tr>\n      <th>2009-05-04</th>\n      <td>12.695494</td>\n      <td>4.317756</td>\n      <td>41.661350</td>\n      <td>4.055979</td>\n      <td>NaN</td>\n      <td>14.536039</td>\n      <td>6.550000</td>\n      <td>15.474052</td>\n      <td>23.509315</td>\n      <td>26.690001</td>\n      <td>...</td>\n      <td>3355300.0</td>\n      <td>5671800.0</td>\n      <td>27306100.0</td>\n      <td>3327200.0</td>\n      <td>NaN</td>\n      <td>10258764.0</td>\n      <td>2736300.0</td>\n      <td>467300.0</td>\n      <td>5366900.0</td>\n      <td>NaN</td>\n    </tr>\n    <tr>\n      <th>2009-05-05</th>\n      <td>12.244419</td>\n      <td>4.666570</td>\n      <td>40.024590</td>\n      <td>4.075634</td>\n      <td>NaN</td>\n      <td>14.544325</td>\n      <td>6.560000</td>\n      <td>15.671154</td>\n      <td>23.447647</td>\n      <td>26.889999</td>\n      <td>...</td>\n      <td>3783400.0</td>\n      <td>9367700.0</td>\n      <td>19910300.0</td>\n      <td>1883500.0</td>\n      <td>NaN</td>\n      <td>8831181.0</td>\n      <td>1649200.0</td>\n      <td>739600.0</td>\n      <td>3577900.0</td>\n      <td>NaN</td>\n    </tr>\n    <tr>\n      <th>2009-05-06</th>\n      <td>12.571287</td>\n      <td>4.713707</td>\n      <td>40.224419</td>\n      <td>4.069184</td>\n      <td>NaN</td>\n      <td>14.577453</td>\n      <td>6.830000</td>\n      <td>15.384469</td>\n      <td>23.239532</td>\n      <td>26.350000</td>\n      <td>...</td>\n      <td>3065900.0</td>\n      <td>7521800.0</td>\n      <td>30814800.0</td>\n      <td>1868100.0</td>\n      <td>NaN</td>\n      <td>11376572.0</td>\n      <td>2908300.0</td>\n      <td>557300.0</td>\n      <td>12796600.0</td>\n      <td>NaN</td>\n    </tr>\n    <tr>\n      <th>2009-05-07</th>\n      <td>12.270568</td>\n      <td>3.742683</td>\n      <td>39.824730</td>\n      <td>3.963540</td>\n      <td>NaN</td>\n      <td>15.061992</td>\n      <td>6.650000</td>\n      <td>15.990102</td>\n      <td>23.170166</td>\n      <td>25.629999</td>\n      <td>...</td>\n      <td>3011800.0</td>\n      <td>10704000.0</td>\n      <td>32541600.0</td>\n      <td>1942800.0</td>\n      <td>NaN</td>\n      <td>8286743.0</td>\n      <td>4052700.0</td>\n      <td>367200.0</td>\n      <td>11874300.0</td>\n      <td>NaN</td>\n    </tr>\n    <tr>\n      <th>...</th>\n      <td>...</td>\n      <td>...</td>\n      <td>...</td>\n      <td>...</td>\n      <td>...</td>\n      <td>...</td>\n      <td>...</td>\n      <td>...</td>\n      <td>...</td>\n      <td>...</td>\n      <td>...</td>\n      <td>...</td>\n      <td>...</td>\n      <td>...</td>\n      <td>...</td>\n      <td>...</td>\n      <td>...</td>\n      <td>...</td>\n      <td>...</td>\n      <td>...</td>\n      <td>...</td>\n    </tr>\n    <tr>\n      <th>2021-08-26</th>\n      <td>173.374115</td>\n      <td>19.900000</td>\n      <td>207.807343</td>\n      <td>147.539993</td>\n      <td>118.957817</td>\n      <td>116.809998</td>\n      <td>358.510010</td>\n      <td>124.987419</td>\n      <td>332.243622</td>\n      <td>652.390015</td>\n      <td>...</td>\n      <td>1637700.0</td>\n      <td>1359600.0</td>\n      <td>11842600.0</td>\n      <td>794300.0</td>\n      <td>976600.0</td>\n      <td>1541800.0</td>\n      <td>1094600.0</td>\n      <td>121100.0</td>\n      <td>1068700.0</td>\n      <td>957600.0</td>\n    </tr>\n    <tr>\n      <th>2021-08-27</th>\n      <td>173.593842</td>\n      <td>20.219999</td>\n      <td>202.831589</td>\n      <td>148.600006</td>\n      <td>118.147644</td>\n      <td>119.889999</td>\n      <td>358.529999</td>\n      <td>124.110802</td>\n      <td>334.666412</td>\n      <td>658.520020</td>\n      <td>...</td>\n      <td>3287400.0</td>\n      <td>1771700.0</td>\n      <td>15817900.0</td>\n      <td>1137200.0</td>\n      <td>727600.0</td>\n      <td>1263000.0</td>\n      <td>1081600.0</td>\n      <td>317300.0</td>\n      <td>2410600.0</td>\n      <td>855300.0</td>\n    </tr>\n    <tr>\n      <th>2021-08-30</th>\n      <td>176.510208</td>\n      <td>19.510000</td>\n      <td>200.164581</td>\n      <td>153.119995</td>\n      <td>119.125778</td>\n      <td>119.519997</td>\n      <td>360.959991</td>\n      <td>125.455612</td>\n      <td>336.002441</td>\n      <td>665.989990</td>\n      <td>...</td>\n      <td>1642600.0</td>\n      <td>1310400.0</td>\n      <td>14086100.0</td>\n      <td>1314400.0</td>\n      <td>564400.0</td>\n      <td>1701400.0</td>\n      <td>894600.0</td>\n      <td>175000.0</td>\n      <td>1777400.0</td>\n      <td>667800.0</td>\n    </tr>\n    <tr>\n      <th>2021-08-31</th>\n      <td>175.251785</td>\n      <td>19.940001</td>\n      <td>201.866302</td>\n      <td>151.830002</td>\n      <td>119.333267</td>\n      <td>122.209999</td>\n      <td>363.959991</td>\n      <td>125.883965</td>\n      <td>335.563751</td>\n      <td>663.700012</td>\n      <td>...</td>\n      <td>2696100.0</td>\n      <td>1816700.0</td>\n      <td>27104100.0</td>\n      <td>1591600.0</td>\n      <td>1088300.0</td>\n      <td>2297300.0</td>\n      <td>1186500.0</td>\n      <td>230100.0</td>\n      <td>1658000.0</td>\n      <td>1480600.0</td>\n    </tr>\n    <tr>\n      <th>2021-09-01</th>\n      <td>NaN</td>\n      <td>NaN</td>\n      <td>NaN</td>\n      <td>NaN</td>\n      <td>NaN</td>\n      <td>NaN</td>\n      <td>NaN</td>\n      <td>NaN</td>\n      <td>NaN</td>\n      <td>NaN</td>\n      <td>...</td>\n      <td>NaN</td>\n      <td>NaN</td>\n      <td>NaN</td>\n      <td>NaN</td>\n      <td>NaN</td>\n      <td>NaN</td>\n      <td>NaN</td>\n      <td>NaN</td>\n      <td>NaN</td>\n      <td>NaN</td>\n    </tr>\n  </tbody>\n</table>\n<p>3113 rows × 3030 columns</p>\n</div>"
     },
     "execution_count": 6,
     "metadata": {},
     "output_type": "execute_result"
    }
   ],
   "source": [
    "df_yf"
   ],
   "metadata": {
    "collapsed": false,
    "pycharm": {
     "name": "#%%\n"
    }
   }
  },
  {
   "cell_type": "code",
   "execution_count": 7,
   "outputs": [],
   "source": [
    "prices = df_yf['Adj Close']"
   ],
   "metadata": {
    "collapsed": false,
    "pycharm": {
     "name": "#%%\n"
    }
   }
  },
  {
   "cell_type": "code",
   "execution_count": 8,
   "outputs": [
    {
     "data": {
      "text/plain": "                     A        AAL         AAP        AAPL        ABBV  \\\nDate                                                                    \n2009-05-01   12.296722   3.780394   40.376686    3.907646         NaN   \n2009-05-04   12.695494   4.317756   41.661350    4.055979         NaN   \n2009-05-05   12.244419   4.666570   40.024590    4.075634         NaN   \n2009-05-06   12.571287   4.713707   40.224419    4.069184         NaN   \n2009-05-07   12.270568   3.742683   39.824730    3.963540         NaN   \n...                ...        ...         ...         ...         ...   \n2021-08-26  173.374115  19.900000  207.807343  147.539993  118.957817   \n2021-08-27  173.593842  20.219999  202.831589  148.600006  118.147644   \n2021-08-30  176.510208  19.510000  200.164581  153.119995  119.125778   \n2021-08-31  175.251785  19.940001  201.866302  151.830002  119.333267   \n2021-09-01         NaN        NaN         NaN         NaN         NaN   \n\n                   ABC        ABMD         ABT         ACN        ADBE  ...  \\\nDate                                                                    ...   \n2009-05-01   14.225438    6.400000   14.879172   23.016006   27.459999  ...   \n2009-05-04   14.536039    6.550000   15.474052   23.509315   26.690001  ...   \n2009-05-05   14.544325    6.560000   15.671154   23.447647   26.889999  ...   \n2009-05-06   14.577453    6.830000   15.384469   23.239532   26.350000  ...   \n2009-05-07   15.061992    6.650000   15.990102   23.170166   25.629999  ...   \n...                ...         ...         ...         ...         ...  ...   \n2021-08-26  116.809998  358.510010  124.987419  332.243622  652.390015  ...   \n2021-08-27  119.889999  358.529999  124.110802  334.666412  658.520020  ...   \n2021-08-30  119.519997  360.959991  125.455612  336.002441  665.989990  ...   \n2021-08-31  122.209999  363.959991  125.883965  335.563751  663.700012  ...   \n2021-09-01         NaN         NaN         NaN         NaN         NaN  ...   \n\n                  XEL        XLNX        XOM       XRAY         XYL  \\\nDate                                                                  \n2009-05-01  11.711297   15.640821  42.752010  24.735886         NaN   \n2009-05-04  11.641246   16.122665  42.871441  25.936653         NaN   \n2009-05-05  11.647614   15.770849  42.525711  26.204519         NaN   \n2009-05-06  11.571195   15.801440  43.110306  26.333830         NaN   \n2009-05-07  11.622140   14.799509  43.330338  26.610935         NaN   \n...               ...         ...        ...        ...         ...   \n2021-08-26  68.300003  151.070007  54.709999  60.389999  134.279999   \n2021-08-27  68.699997  156.270004  55.770000  62.090000  134.940002   \n2021-08-30  69.029999  155.070007  55.160000  61.279999  136.479996   \n2021-08-31  68.750000  155.589996  54.520000  61.700001  136.309998   \n2021-09-01        NaN         NaN        NaN        NaN         NaN   \n\n                   YUM         ZBH        ZBRA       ZION         ZTS  \nDate                                                                   \n2009-05-01   18.721672   39.587780   21.299999   9.274314         NaN  \n2009-05-04   19.258999   40.653255   21.280001  11.127443         NaN  \n2009-05-05   19.915106   40.203163   20.440001  11.058166         NaN  \n2009-05-06   19.994297   40.965530   19.980000  13.941780         NaN  \n2009-05-07   19.196774   42.517815   19.559999  13.872503         NaN  \n...                ...         ...         ...        ...         ...  \n2021-08-26  131.399994  149.352005  578.909973  55.750000  203.776642  \n2021-08-27  131.699997  149.831253  587.960022  58.549999  203.576874  \n2021-08-30  130.690002  149.541702  584.780029  57.200001  205.644394  \n2021-08-31  131.029999  150.210632  587.169983  57.900002  204.315979  \n2021-09-01         NaN         NaN         NaN        NaN         NaN  \n\n[3113 rows x 505 columns]",
      "text/html": "<div>\n<style scoped>\n    .dataframe tbody tr th:only-of-type {\n        vertical-align: middle;\n    }\n\n    .dataframe tbody tr th {\n        vertical-align: top;\n    }\n\n    .dataframe thead th {\n        text-align: right;\n    }\n</style>\n<table border=\"1\" class=\"dataframe\">\n  <thead>\n    <tr style=\"text-align: right;\">\n      <th></th>\n      <th>A</th>\n      <th>AAL</th>\n      <th>AAP</th>\n      <th>AAPL</th>\n      <th>ABBV</th>\n      <th>ABC</th>\n      <th>ABMD</th>\n      <th>ABT</th>\n      <th>ACN</th>\n      <th>ADBE</th>\n      <th>...</th>\n      <th>XEL</th>\n      <th>XLNX</th>\n      <th>XOM</th>\n      <th>XRAY</th>\n      <th>XYL</th>\n      <th>YUM</th>\n      <th>ZBH</th>\n      <th>ZBRA</th>\n      <th>ZION</th>\n      <th>ZTS</th>\n    </tr>\n    <tr>\n      <th>Date</th>\n      <th></th>\n      <th></th>\n      <th></th>\n      <th></th>\n      <th></th>\n      <th></th>\n      <th></th>\n      <th></th>\n      <th></th>\n      <th></th>\n      <th></th>\n      <th></th>\n      <th></th>\n      <th></th>\n      <th></th>\n      <th></th>\n      <th></th>\n      <th></th>\n      <th></th>\n      <th></th>\n      <th></th>\n    </tr>\n  </thead>\n  <tbody>\n    <tr>\n      <th>2009-05-01</th>\n      <td>12.296722</td>\n      <td>3.780394</td>\n      <td>40.376686</td>\n      <td>3.907646</td>\n      <td>NaN</td>\n      <td>14.225438</td>\n      <td>6.400000</td>\n      <td>14.879172</td>\n      <td>23.016006</td>\n      <td>27.459999</td>\n      <td>...</td>\n      <td>11.711297</td>\n      <td>15.640821</td>\n      <td>42.752010</td>\n      <td>24.735886</td>\n      <td>NaN</td>\n      <td>18.721672</td>\n      <td>39.587780</td>\n      <td>21.299999</td>\n      <td>9.274314</td>\n      <td>NaN</td>\n    </tr>\n    <tr>\n      <th>2009-05-04</th>\n      <td>12.695494</td>\n      <td>4.317756</td>\n      <td>41.661350</td>\n      <td>4.055979</td>\n      <td>NaN</td>\n      <td>14.536039</td>\n      <td>6.550000</td>\n      <td>15.474052</td>\n      <td>23.509315</td>\n      <td>26.690001</td>\n      <td>...</td>\n      <td>11.641246</td>\n      <td>16.122665</td>\n      <td>42.871441</td>\n      <td>25.936653</td>\n      <td>NaN</td>\n      <td>19.258999</td>\n      <td>40.653255</td>\n      <td>21.280001</td>\n      <td>11.127443</td>\n      <td>NaN</td>\n    </tr>\n    <tr>\n      <th>2009-05-05</th>\n      <td>12.244419</td>\n      <td>4.666570</td>\n      <td>40.024590</td>\n      <td>4.075634</td>\n      <td>NaN</td>\n      <td>14.544325</td>\n      <td>6.560000</td>\n      <td>15.671154</td>\n      <td>23.447647</td>\n      <td>26.889999</td>\n      <td>...</td>\n      <td>11.647614</td>\n      <td>15.770849</td>\n      <td>42.525711</td>\n      <td>26.204519</td>\n      <td>NaN</td>\n      <td>19.915106</td>\n      <td>40.203163</td>\n      <td>20.440001</td>\n      <td>11.058166</td>\n      <td>NaN</td>\n    </tr>\n    <tr>\n      <th>2009-05-06</th>\n      <td>12.571287</td>\n      <td>4.713707</td>\n      <td>40.224419</td>\n      <td>4.069184</td>\n      <td>NaN</td>\n      <td>14.577453</td>\n      <td>6.830000</td>\n      <td>15.384469</td>\n      <td>23.239532</td>\n      <td>26.350000</td>\n      <td>...</td>\n      <td>11.571195</td>\n      <td>15.801440</td>\n      <td>43.110306</td>\n      <td>26.333830</td>\n      <td>NaN</td>\n      <td>19.994297</td>\n      <td>40.965530</td>\n      <td>19.980000</td>\n      <td>13.941780</td>\n      <td>NaN</td>\n    </tr>\n    <tr>\n      <th>2009-05-07</th>\n      <td>12.270568</td>\n      <td>3.742683</td>\n      <td>39.824730</td>\n      <td>3.963540</td>\n      <td>NaN</td>\n      <td>15.061992</td>\n      <td>6.650000</td>\n      <td>15.990102</td>\n      <td>23.170166</td>\n      <td>25.629999</td>\n      <td>...</td>\n      <td>11.622140</td>\n      <td>14.799509</td>\n      <td>43.330338</td>\n      <td>26.610935</td>\n      <td>NaN</td>\n      <td>19.196774</td>\n      <td>42.517815</td>\n      <td>19.559999</td>\n      <td>13.872503</td>\n      <td>NaN</td>\n    </tr>\n    <tr>\n      <th>...</th>\n      <td>...</td>\n      <td>...</td>\n      <td>...</td>\n      <td>...</td>\n      <td>...</td>\n      <td>...</td>\n      <td>...</td>\n      <td>...</td>\n      <td>...</td>\n      <td>...</td>\n      <td>...</td>\n      <td>...</td>\n      <td>...</td>\n      <td>...</td>\n      <td>...</td>\n      <td>...</td>\n      <td>...</td>\n      <td>...</td>\n      <td>...</td>\n      <td>...</td>\n      <td>...</td>\n    </tr>\n    <tr>\n      <th>2021-08-26</th>\n      <td>173.374115</td>\n      <td>19.900000</td>\n      <td>207.807343</td>\n      <td>147.539993</td>\n      <td>118.957817</td>\n      <td>116.809998</td>\n      <td>358.510010</td>\n      <td>124.987419</td>\n      <td>332.243622</td>\n      <td>652.390015</td>\n      <td>...</td>\n      <td>68.300003</td>\n      <td>151.070007</td>\n      <td>54.709999</td>\n      <td>60.389999</td>\n      <td>134.279999</td>\n      <td>131.399994</td>\n      <td>149.352005</td>\n      <td>578.909973</td>\n      <td>55.750000</td>\n      <td>203.776642</td>\n    </tr>\n    <tr>\n      <th>2021-08-27</th>\n      <td>173.593842</td>\n      <td>20.219999</td>\n      <td>202.831589</td>\n      <td>148.600006</td>\n      <td>118.147644</td>\n      <td>119.889999</td>\n      <td>358.529999</td>\n      <td>124.110802</td>\n      <td>334.666412</td>\n      <td>658.520020</td>\n      <td>...</td>\n      <td>68.699997</td>\n      <td>156.270004</td>\n      <td>55.770000</td>\n      <td>62.090000</td>\n      <td>134.940002</td>\n      <td>131.699997</td>\n      <td>149.831253</td>\n      <td>587.960022</td>\n      <td>58.549999</td>\n      <td>203.576874</td>\n    </tr>\n    <tr>\n      <th>2021-08-30</th>\n      <td>176.510208</td>\n      <td>19.510000</td>\n      <td>200.164581</td>\n      <td>153.119995</td>\n      <td>119.125778</td>\n      <td>119.519997</td>\n      <td>360.959991</td>\n      <td>125.455612</td>\n      <td>336.002441</td>\n      <td>665.989990</td>\n      <td>...</td>\n      <td>69.029999</td>\n      <td>155.070007</td>\n      <td>55.160000</td>\n      <td>61.279999</td>\n      <td>136.479996</td>\n      <td>130.690002</td>\n      <td>149.541702</td>\n      <td>584.780029</td>\n      <td>57.200001</td>\n      <td>205.644394</td>\n    </tr>\n    <tr>\n      <th>2021-08-31</th>\n      <td>175.251785</td>\n      <td>19.940001</td>\n      <td>201.866302</td>\n      <td>151.830002</td>\n      <td>119.333267</td>\n      <td>122.209999</td>\n      <td>363.959991</td>\n      <td>125.883965</td>\n      <td>335.563751</td>\n      <td>663.700012</td>\n      <td>...</td>\n      <td>68.750000</td>\n      <td>155.589996</td>\n      <td>54.520000</td>\n      <td>61.700001</td>\n      <td>136.309998</td>\n      <td>131.029999</td>\n      <td>150.210632</td>\n      <td>587.169983</td>\n      <td>57.900002</td>\n      <td>204.315979</td>\n    </tr>\n    <tr>\n      <th>2021-09-01</th>\n      <td>NaN</td>\n      <td>NaN</td>\n      <td>NaN</td>\n      <td>NaN</td>\n      <td>NaN</td>\n      <td>NaN</td>\n      <td>NaN</td>\n      <td>NaN</td>\n      <td>NaN</td>\n      <td>NaN</td>\n      <td>...</td>\n      <td>NaN</td>\n      <td>NaN</td>\n      <td>NaN</td>\n      <td>NaN</td>\n      <td>NaN</td>\n      <td>NaN</td>\n      <td>NaN</td>\n      <td>NaN</td>\n      <td>NaN</td>\n      <td>NaN</td>\n    </tr>\n  </tbody>\n</table>\n<p>3113 rows × 505 columns</p>\n</div>"
     },
     "execution_count": 8,
     "metadata": {},
     "output_type": "execute_result"
    }
   ],
   "source": [
    "prices"
   ],
   "metadata": {
    "collapsed": false,
    "pycharm": {
     "name": "#%%\n"
    }
   }
  },
  {
   "cell_type": "code",
   "execution_count": 9,
   "outputs": [],
   "source": [
    "prices.index = pd.to_datetime(prices.index)\n"
   ],
   "metadata": {
    "collapsed": false,
    "pycharm": {
     "name": "#%%\n"
    }
   }
  },
  {
   "cell_type": "code",
   "execution_count": 10,
   "outputs": [],
   "source": [
    "# track all monthly return\n",
    "monthly_return = prices.pct_change().resample('M').agg(lambda x: (x+1).prod() -1)"
   ],
   "metadata": {
    "collapsed": false,
    "pycharm": {
     "name": "#%%\n"
    }
   }
  },
  {
   "cell_type": "code",
   "execution_count": 11,
   "outputs": [
    {
     "data": {
      "text/plain": "                   A       AAL       AAP      AAPL      ABBV       ABC  \\\nDate                                                                     \n2009-05-31 -0.030835 -0.356609  0.003771  0.067353  0.000000  0.083093   \n2009-06-30  0.114098 -0.058139 -0.024429  0.048744  0.000000 -0.043666   \n2009-07-31  0.143279  0.205761  0.114245  0.147160  0.000000  0.111612   \n2009-08-31  0.105943  0.160409 -0.085010  0.029500  0.000000  0.083751   \n2009-09-30  0.083723  0.382353 -0.070011  0.101897  0.000000  0.050211   \n...              ...       ...       ...       ...       ...       ...   \n2021-05-31  0.033598  0.116022 -0.052108 -0.050497  0.015247 -0.046654   \n2021-06-30  0.070079 -0.125000  0.086739  0.099109 -0.004947 -0.002179   \n2021-07-31  0.038031 -0.039132  0.033733  0.064982  0.044003  0.067080   \n2021-08-31  0.145141 -0.021590 -0.043431  0.040930  0.038521  0.004008   \n2021-09-30  0.000000  0.000000  0.000000  0.000000  0.000000  0.000000   \n\n                ABMD       ABT       ACN      ADBE  ...       XEL      XLNX  \\\nDate                                                ...                       \n2009-05-31 -0.071875  0.085260  0.002344  0.026220  ... -0.067428  0.021823   \n2009-06-30  0.484848  0.043942  0.117942  0.004258  ...  0.088101 -0.013500   \n2009-07-31 -0.149660 -0.035081  0.048117  0.145583  ...  0.083107  0.060118   \n2009-08-31  0.104000  0.005335 -0.059025 -0.030845  ... -0.009528  0.032018   \n2009-09-30  0.172705  0.093743  0.129394  0.051560  ... -0.013766  0.053058   \n...              ...       ...       ...       ...  ...       ...       ...   \n2021-05-31 -0.112712 -0.028564 -0.026934 -0.007397  ... -0.005891 -0.007502   \n2021-06-30  0.096739 -0.006172  0.044762  0.160649  ... -0.064380  0.138898   \n2021-07-31  0.048156  0.047534  0.080690  0.061454  ...  0.035975  0.035951   \n2021-08-31  0.112551  0.044553  0.059431  0.067677  ...  0.007326  0.038374   \n2021-09-30  0.000000  0.000000  0.000000  0.000000  ...  0.000000  0.000000   \n\n                 XOM      XRAY       XYL       YUM       ZBH      ZBRA  \\\nDate                                                                     \n2009-05-31  0.025788  0.092606  0.000000  0.046223  0.033643  0.024883   \n2009-06-30  0.008075  0.046559  0.000000 -0.037251 -0.043771  0.083830   \n2009-07-31  0.006866  0.090939  0.000000  0.069195  0.093897  0.032967   \n2009-08-31 -0.011616  0.011095  0.000000 -0.034123  0.016094  0.022504   \n2009-09-30 -0.007809  0.025801  0.000000 -0.014306  0.128828  0.037615   \n...              ...       ...       ...       ...       ...       ...   \n2021-05-31  0.034597 -0.008739  0.070076  0.007948 -0.049842  0.019088   \n2021-06-30  0.080692 -0.053066  0.015577 -0.041177 -0.043218  0.065265   \n2021-07-31 -0.087349  0.043946  0.049100  0.142224  0.016167  0.043419   \n2021-08-31 -0.038645 -0.065718  0.085383  0.000983 -0.079366  0.062790   \n2021-09-30  0.000000  0.000000  0.000000  0.000000  0.000000  0.000000   \n\n                ZION       ZTS  \nDate                            \n2009-05-31  0.279825  0.000000  \n2009-06-30 -0.154971  0.000000  \n2009-07-31  0.174740  0.000000  \n2009-08-31  0.302679  0.000000  \n2009-09-30  0.016402  0.000000  \n...              ...       ...  \n2021-05-31  0.043336  0.021095  \n2021-06-30 -0.086731  0.054788  \n2021-07-31 -0.013432  0.089056  \n2021-08-31  0.110259  0.009176  \n2021-09-30  0.000000  0.000000  \n\n[149 rows x 505 columns]",
      "text/html": "<div>\n<style scoped>\n    .dataframe tbody tr th:only-of-type {\n        vertical-align: middle;\n    }\n\n    .dataframe tbody tr th {\n        vertical-align: top;\n    }\n\n    .dataframe thead th {\n        text-align: right;\n    }\n</style>\n<table border=\"1\" class=\"dataframe\">\n  <thead>\n    <tr style=\"text-align: right;\">\n      <th></th>\n      <th>A</th>\n      <th>AAL</th>\n      <th>AAP</th>\n      <th>AAPL</th>\n      <th>ABBV</th>\n      <th>ABC</th>\n      <th>ABMD</th>\n      <th>ABT</th>\n      <th>ACN</th>\n      <th>ADBE</th>\n      <th>...</th>\n      <th>XEL</th>\n      <th>XLNX</th>\n      <th>XOM</th>\n      <th>XRAY</th>\n      <th>XYL</th>\n      <th>YUM</th>\n      <th>ZBH</th>\n      <th>ZBRA</th>\n      <th>ZION</th>\n      <th>ZTS</th>\n    </tr>\n    <tr>\n      <th>Date</th>\n      <th></th>\n      <th></th>\n      <th></th>\n      <th></th>\n      <th></th>\n      <th></th>\n      <th></th>\n      <th></th>\n      <th></th>\n      <th></th>\n      <th></th>\n      <th></th>\n      <th></th>\n      <th></th>\n      <th></th>\n      <th></th>\n      <th></th>\n      <th></th>\n      <th></th>\n      <th></th>\n      <th></th>\n    </tr>\n  </thead>\n  <tbody>\n    <tr>\n      <th>2009-05-31</th>\n      <td>-0.030835</td>\n      <td>-0.356609</td>\n      <td>0.003771</td>\n      <td>0.067353</td>\n      <td>0.000000</td>\n      <td>0.083093</td>\n      <td>-0.071875</td>\n      <td>0.085260</td>\n      <td>0.002344</td>\n      <td>0.026220</td>\n      <td>...</td>\n      <td>-0.067428</td>\n      <td>0.021823</td>\n      <td>0.025788</td>\n      <td>0.092606</td>\n      <td>0.000000</td>\n      <td>0.046223</td>\n      <td>0.033643</td>\n      <td>0.024883</td>\n      <td>0.279825</td>\n      <td>0.000000</td>\n    </tr>\n    <tr>\n      <th>2009-06-30</th>\n      <td>0.114098</td>\n      <td>-0.058139</td>\n      <td>-0.024429</td>\n      <td>0.048744</td>\n      <td>0.000000</td>\n      <td>-0.043666</td>\n      <td>0.484848</td>\n      <td>0.043942</td>\n      <td>0.117942</td>\n      <td>0.004258</td>\n      <td>...</td>\n      <td>0.088101</td>\n      <td>-0.013500</td>\n      <td>0.008075</td>\n      <td>0.046559</td>\n      <td>0.000000</td>\n      <td>-0.037251</td>\n      <td>-0.043771</td>\n      <td>0.083830</td>\n      <td>-0.154971</td>\n      <td>0.000000</td>\n    </tr>\n    <tr>\n      <th>2009-07-31</th>\n      <td>0.143279</td>\n      <td>0.205761</td>\n      <td>0.114245</td>\n      <td>0.147160</td>\n      <td>0.000000</td>\n      <td>0.111612</td>\n      <td>-0.149660</td>\n      <td>-0.035081</td>\n      <td>0.048117</td>\n      <td>0.145583</td>\n      <td>...</td>\n      <td>0.083107</td>\n      <td>0.060118</td>\n      <td>0.006866</td>\n      <td>0.090939</td>\n      <td>0.000000</td>\n      <td>0.069195</td>\n      <td>0.093897</td>\n      <td>0.032967</td>\n      <td>0.174740</td>\n      <td>0.000000</td>\n    </tr>\n    <tr>\n      <th>2009-08-31</th>\n      <td>0.105943</td>\n      <td>0.160409</td>\n      <td>-0.085010</td>\n      <td>0.029500</td>\n      <td>0.000000</td>\n      <td>0.083751</td>\n      <td>0.104000</td>\n      <td>0.005335</td>\n      <td>-0.059025</td>\n      <td>-0.030845</td>\n      <td>...</td>\n      <td>-0.009528</td>\n      <td>0.032018</td>\n      <td>-0.011616</td>\n      <td>0.011095</td>\n      <td>0.000000</td>\n      <td>-0.034123</td>\n      <td>0.016094</td>\n      <td>0.022504</td>\n      <td>0.302679</td>\n      <td>0.000000</td>\n    </tr>\n    <tr>\n      <th>2009-09-30</th>\n      <td>0.083723</td>\n      <td>0.382353</td>\n      <td>-0.070011</td>\n      <td>0.101897</td>\n      <td>0.000000</td>\n      <td>0.050211</td>\n      <td>0.172705</td>\n      <td>0.093743</td>\n      <td>0.129394</td>\n      <td>0.051560</td>\n      <td>...</td>\n      <td>-0.013766</td>\n      <td>0.053058</td>\n      <td>-0.007809</td>\n      <td>0.025801</td>\n      <td>0.000000</td>\n      <td>-0.014306</td>\n      <td>0.128828</td>\n      <td>0.037615</td>\n      <td>0.016402</td>\n      <td>0.000000</td>\n    </tr>\n    <tr>\n      <th>...</th>\n      <td>...</td>\n      <td>...</td>\n      <td>...</td>\n      <td>...</td>\n      <td>...</td>\n      <td>...</td>\n      <td>...</td>\n      <td>...</td>\n      <td>...</td>\n      <td>...</td>\n      <td>...</td>\n      <td>...</td>\n      <td>...</td>\n      <td>...</td>\n      <td>...</td>\n      <td>...</td>\n      <td>...</td>\n      <td>...</td>\n      <td>...</td>\n      <td>...</td>\n      <td>...</td>\n    </tr>\n    <tr>\n      <th>2021-05-31</th>\n      <td>0.033598</td>\n      <td>0.116022</td>\n      <td>-0.052108</td>\n      <td>-0.050497</td>\n      <td>0.015247</td>\n      <td>-0.046654</td>\n      <td>-0.112712</td>\n      <td>-0.028564</td>\n      <td>-0.026934</td>\n      <td>-0.007397</td>\n      <td>...</td>\n      <td>-0.005891</td>\n      <td>-0.007502</td>\n      <td>0.034597</td>\n      <td>-0.008739</td>\n      <td>0.070076</td>\n      <td>0.007948</td>\n      <td>-0.049842</td>\n      <td>0.019088</td>\n      <td>0.043336</td>\n      <td>0.021095</td>\n    </tr>\n    <tr>\n      <th>2021-06-30</th>\n      <td>0.070079</td>\n      <td>-0.125000</td>\n      <td>0.086739</td>\n      <td>0.099109</td>\n      <td>-0.004947</td>\n      <td>-0.002179</td>\n      <td>0.096739</td>\n      <td>-0.006172</td>\n      <td>0.044762</td>\n      <td>0.160649</td>\n      <td>...</td>\n      <td>-0.064380</td>\n      <td>0.138898</td>\n      <td>0.080692</td>\n      <td>-0.053066</td>\n      <td>0.015577</td>\n      <td>-0.041177</td>\n      <td>-0.043218</td>\n      <td>0.065265</td>\n      <td>-0.086731</td>\n      <td>0.054788</td>\n    </tr>\n    <tr>\n      <th>2021-07-31</th>\n      <td>0.038031</td>\n      <td>-0.039132</td>\n      <td>0.033733</td>\n      <td>0.064982</td>\n      <td>0.044003</td>\n      <td>0.067080</td>\n      <td>0.048156</td>\n      <td>0.047534</td>\n      <td>0.080690</td>\n      <td>0.061454</td>\n      <td>...</td>\n      <td>0.035975</td>\n      <td>0.035951</td>\n      <td>-0.087349</td>\n      <td>0.043946</td>\n      <td>0.049100</td>\n      <td>0.142224</td>\n      <td>0.016167</td>\n      <td>0.043419</td>\n      <td>-0.013432</td>\n      <td>0.089056</td>\n    </tr>\n    <tr>\n      <th>2021-08-31</th>\n      <td>0.145141</td>\n      <td>-0.021590</td>\n      <td>-0.043431</td>\n      <td>0.040930</td>\n      <td>0.038521</td>\n      <td>0.004008</td>\n      <td>0.112551</td>\n      <td>0.044553</td>\n      <td>0.059431</td>\n      <td>0.067677</td>\n      <td>...</td>\n      <td>0.007326</td>\n      <td>0.038374</td>\n      <td>-0.038645</td>\n      <td>-0.065718</td>\n      <td>0.085383</td>\n      <td>0.000983</td>\n      <td>-0.079366</td>\n      <td>0.062790</td>\n      <td>0.110259</td>\n      <td>0.009176</td>\n    </tr>\n    <tr>\n      <th>2021-09-30</th>\n      <td>0.000000</td>\n      <td>0.000000</td>\n      <td>0.000000</td>\n      <td>0.000000</td>\n      <td>0.000000</td>\n      <td>0.000000</td>\n      <td>0.000000</td>\n      <td>0.000000</td>\n      <td>0.000000</td>\n      <td>0.000000</td>\n      <td>...</td>\n      <td>0.000000</td>\n      <td>0.000000</td>\n      <td>0.000000</td>\n      <td>0.000000</td>\n      <td>0.000000</td>\n      <td>0.000000</td>\n      <td>0.000000</td>\n      <td>0.000000</td>\n      <td>0.000000</td>\n      <td>0.000000</td>\n    </tr>\n  </tbody>\n</table>\n<p>149 rows × 505 columns</p>\n</div>"
     },
     "execution_count": 11,
     "metadata": {},
     "output_type": "execute_result"
    }
   ],
   "source": [
    "monthly_return"
   ],
   "metadata": {
    "collapsed": false,
    "pycharm": {
     "name": "#%%\n"
    }
   }
  },
  {
   "cell_type": "code",
   "execution_count": 12,
   "outputs": [],
   "source": [
    "past_11 = (monthly_return+1).rolling(11).apply(np.prod) - 1"
   ],
   "metadata": {
    "collapsed": false,
    "pycharm": {
     "name": "#%%\n"
    }
   }
  },
  {
   "cell_type": "code",
   "execution_count": 13,
   "outputs": [
    {
     "data": {
      "text/plain": "                   A       AAL       AAP      AAPL      ABBV       ABC  \\\nDate                                                                     \n2009-05-31       NaN       NaN       NaN       NaN       NaN       NaN   \n2009-06-30       NaN       NaN       NaN       NaN       NaN       NaN   \n2009-07-31       NaN       NaN       NaN       NaN       NaN       NaN   \n2009-08-31       NaN       NaN       NaN       NaN       NaN       NaN   \n2009-09-30       NaN       NaN       NaN       NaN       NaN       NaN   \n...              ...       ...       ...       ...       ...       ...   \n2021-05-31  0.570860  0.854629  0.337972  0.375544  0.211337  0.157103   \n2021-06-30  0.542043  0.907374  0.379553  0.297599  0.231838  0.161266   \n2021-07-31  0.535495  0.561686  0.369798  0.135915  0.274495  0.274288   \n2021-08-31  0.749300  0.622457  0.332135  0.317485  0.447199  0.280847   \n2021-09-30  0.726482  0.767731  0.388395  0.401598  0.469531  0.292180   \n\n                ABMD       ABT       ACN      ADBE  ...       XEL      XLNX  \\\nDate                                                ...                       \n2009-05-31       NaN       NaN       NaN       NaN  ...       NaN       NaN   \n2009-06-30       NaN       NaN       NaN       NaN  ...       NaN       NaN   \n2009-07-31       NaN       NaN       NaN       NaN  ...       NaN       NaN   \n2009-08-31       NaN       NaN       NaN       NaN  ...       NaN       NaN   \n2009-09-30       NaN       NaN       NaN       NaN  ...       NaN       NaN   \n...              ...       ...       ...       ...  ...       ...       ...   \n2021-05-31  0.178092  0.294976  0.332699  0.159128  ...  0.157329  0.299168   \n2021-06-30  0.040575  0.164684  0.325183  0.318059  ... -0.019752  0.356123   \n2021-07-31  0.063455  0.121635  0.341684  0.210834  ...  0.009226  0.442643   \n2021-08-31  0.313650  0.178497  0.509101  0.353302  ...  0.017005  0.496854   \n2021-09-30  0.444974  0.216152  0.566140  0.484455  ...  0.002192  0.314619   \n\n                 XOM      XRAY       XYL       YUM       ZBH      ZBRA  \\\nDate                                                                     \n2009-05-31       NaN       NaN       NaN       NaN       NaN       NaN   \n2009-06-30       NaN       NaN       NaN       NaN       NaN       NaN   \n2009-07-31       NaN       NaN       NaN       NaN       NaN       NaN   \n2009-08-31       NaN       NaN       NaN       NaN       NaN       NaN   \n2009-09-30       NaN       NaN       NaN       NaN       NaN       NaN   \n...              ...       ...       ...       ...       ...       ...   \n2021-05-31  0.406437  0.527876  0.839001  0.405895  0.417193  0.941981   \n2021-06-30  0.615282  0.429280  0.662406  0.286711  0.200100  0.885984   \n2021-07-31  0.523128  0.483112  0.582320  0.389316  0.167392  0.928175   \n2021-08-31  0.703547  0.418441  0.636984  0.459987  0.110202  1.325794   \n2021-09-30  0.792851  0.314440  0.580251  0.428231  0.144155  1.070124   \n\n                ZION       ZTS  \nDate                            \n2009-05-31       NaN       NaN  \n2009-06-30       NaN       NaN  \n2009-07-31       NaN       NaN  \n2009-08-31       NaN       NaN  \n2009-09-30       NaN       NaN  \n...              ...       ...  \n2021-05-31  0.755523  0.296613  \n2021-06-30  0.678811  0.233919  \n2021-07-31  0.656162  0.273133  \n2021-08-31  1.023778  0.243871  \n2021-09-30  0.832500  0.295754  \n\n[149 rows x 505 columns]",
      "text/html": "<div>\n<style scoped>\n    .dataframe tbody tr th:only-of-type {\n        vertical-align: middle;\n    }\n\n    .dataframe tbody tr th {\n        vertical-align: top;\n    }\n\n    .dataframe thead th {\n        text-align: right;\n    }\n</style>\n<table border=\"1\" class=\"dataframe\">\n  <thead>\n    <tr style=\"text-align: right;\">\n      <th></th>\n      <th>A</th>\n      <th>AAL</th>\n      <th>AAP</th>\n      <th>AAPL</th>\n      <th>ABBV</th>\n      <th>ABC</th>\n      <th>ABMD</th>\n      <th>ABT</th>\n      <th>ACN</th>\n      <th>ADBE</th>\n      <th>...</th>\n      <th>XEL</th>\n      <th>XLNX</th>\n      <th>XOM</th>\n      <th>XRAY</th>\n      <th>XYL</th>\n      <th>YUM</th>\n      <th>ZBH</th>\n      <th>ZBRA</th>\n      <th>ZION</th>\n      <th>ZTS</th>\n    </tr>\n    <tr>\n      <th>Date</th>\n      <th></th>\n      <th></th>\n      <th></th>\n      <th></th>\n      <th></th>\n      <th></th>\n      <th></th>\n      <th></th>\n      <th></th>\n      <th></th>\n      <th></th>\n      <th></th>\n      <th></th>\n      <th></th>\n      <th></th>\n      <th></th>\n      <th></th>\n      <th></th>\n      <th></th>\n      <th></th>\n      <th></th>\n    </tr>\n  </thead>\n  <tbody>\n    <tr>\n      <th>2009-05-31</th>\n      <td>NaN</td>\n      <td>NaN</td>\n      <td>NaN</td>\n      <td>NaN</td>\n      <td>NaN</td>\n      <td>NaN</td>\n      <td>NaN</td>\n      <td>NaN</td>\n      <td>NaN</td>\n      <td>NaN</td>\n      <td>...</td>\n      <td>NaN</td>\n      <td>NaN</td>\n      <td>NaN</td>\n      <td>NaN</td>\n      <td>NaN</td>\n      <td>NaN</td>\n      <td>NaN</td>\n      <td>NaN</td>\n      <td>NaN</td>\n      <td>NaN</td>\n    </tr>\n    <tr>\n      <th>2009-06-30</th>\n      <td>NaN</td>\n      <td>NaN</td>\n      <td>NaN</td>\n      <td>NaN</td>\n      <td>NaN</td>\n      <td>NaN</td>\n      <td>NaN</td>\n      <td>NaN</td>\n      <td>NaN</td>\n      <td>NaN</td>\n      <td>...</td>\n      <td>NaN</td>\n      <td>NaN</td>\n      <td>NaN</td>\n      <td>NaN</td>\n      <td>NaN</td>\n      <td>NaN</td>\n      <td>NaN</td>\n      <td>NaN</td>\n      <td>NaN</td>\n      <td>NaN</td>\n    </tr>\n    <tr>\n      <th>2009-07-31</th>\n      <td>NaN</td>\n      <td>NaN</td>\n      <td>NaN</td>\n      <td>NaN</td>\n      <td>NaN</td>\n      <td>NaN</td>\n      <td>NaN</td>\n      <td>NaN</td>\n      <td>NaN</td>\n      <td>NaN</td>\n      <td>...</td>\n      <td>NaN</td>\n      <td>NaN</td>\n      <td>NaN</td>\n      <td>NaN</td>\n      <td>NaN</td>\n      <td>NaN</td>\n      <td>NaN</td>\n      <td>NaN</td>\n      <td>NaN</td>\n      <td>NaN</td>\n    </tr>\n    <tr>\n      <th>2009-08-31</th>\n      <td>NaN</td>\n      <td>NaN</td>\n      <td>NaN</td>\n      <td>NaN</td>\n      <td>NaN</td>\n      <td>NaN</td>\n      <td>NaN</td>\n      <td>NaN</td>\n      <td>NaN</td>\n      <td>NaN</td>\n      <td>...</td>\n      <td>NaN</td>\n      <td>NaN</td>\n      <td>NaN</td>\n      <td>NaN</td>\n      <td>NaN</td>\n      <td>NaN</td>\n      <td>NaN</td>\n      <td>NaN</td>\n      <td>NaN</td>\n      <td>NaN</td>\n    </tr>\n    <tr>\n      <th>2009-09-30</th>\n      <td>NaN</td>\n      <td>NaN</td>\n      <td>NaN</td>\n      <td>NaN</td>\n      <td>NaN</td>\n      <td>NaN</td>\n      <td>NaN</td>\n      <td>NaN</td>\n      <td>NaN</td>\n      <td>NaN</td>\n      <td>...</td>\n      <td>NaN</td>\n      <td>NaN</td>\n      <td>NaN</td>\n      <td>NaN</td>\n      <td>NaN</td>\n      <td>NaN</td>\n      <td>NaN</td>\n      <td>NaN</td>\n      <td>NaN</td>\n      <td>NaN</td>\n    </tr>\n    <tr>\n      <th>...</th>\n      <td>...</td>\n      <td>...</td>\n      <td>...</td>\n      <td>...</td>\n      <td>...</td>\n      <td>...</td>\n      <td>...</td>\n      <td>...</td>\n      <td>...</td>\n      <td>...</td>\n      <td>...</td>\n      <td>...</td>\n      <td>...</td>\n      <td>...</td>\n      <td>...</td>\n      <td>...</td>\n      <td>...</td>\n      <td>...</td>\n      <td>...</td>\n      <td>...</td>\n      <td>...</td>\n    </tr>\n    <tr>\n      <th>2021-05-31</th>\n      <td>0.570860</td>\n      <td>0.854629</td>\n      <td>0.337972</td>\n      <td>0.375544</td>\n      <td>0.211337</td>\n      <td>0.157103</td>\n      <td>0.178092</td>\n      <td>0.294976</td>\n      <td>0.332699</td>\n      <td>0.159128</td>\n      <td>...</td>\n      <td>0.157329</td>\n      <td>0.299168</td>\n      <td>0.406437</td>\n      <td>0.527876</td>\n      <td>0.839001</td>\n      <td>0.405895</td>\n      <td>0.417193</td>\n      <td>0.941981</td>\n      <td>0.755523</td>\n      <td>0.296613</td>\n    </tr>\n    <tr>\n      <th>2021-06-30</th>\n      <td>0.542043</td>\n      <td>0.907374</td>\n      <td>0.379553</td>\n      <td>0.297599</td>\n      <td>0.231838</td>\n      <td>0.161266</td>\n      <td>0.040575</td>\n      <td>0.164684</td>\n      <td>0.325183</td>\n      <td>0.318059</td>\n      <td>...</td>\n      <td>-0.019752</td>\n      <td>0.356123</td>\n      <td>0.615282</td>\n      <td>0.429280</td>\n      <td>0.662406</td>\n      <td>0.286711</td>\n      <td>0.200100</td>\n      <td>0.885984</td>\n      <td>0.678811</td>\n      <td>0.233919</td>\n    </tr>\n    <tr>\n      <th>2021-07-31</th>\n      <td>0.535495</td>\n      <td>0.561686</td>\n      <td>0.369798</td>\n      <td>0.135915</td>\n      <td>0.274495</td>\n      <td>0.274288</td>\n      <td>0.063455</td>\n      <td>0.121635</td>\n      <td>0.341684</td>\n      <td>0.210834</td>\n      <td>...</td>\n      <td>0.009226</td>\n      <td>0.442643</td>\n      <td>0.523128</td>\n      <td>0.483112</td>\n      <td>0.582320</td>\n      <td>0.389316</td>\n      <td>0.167392</td>\n      <td>0.928175</td>\n      <td>0.656162</td>\n      <td>0.273133</td>\n    </tr>\n    <tr>\n      <th>2021-08-31</th>\n      <td>0.749300</td>\n      <td>0.622457</td>\n      <td>0.332135</td>\n      <td>0.317485</td>\n      <td>0.447199</td>\n      <td>0.280847</td>\n      <td>0.313650</td>\n      <td>0.178497</td>\n      <td>0.509101</td>\n      <td>0.353302</td>\n      <td>...</td>\n      <td>0.017005</td>\n      <td>0.496854</td>\n      <td>0.703547</td>\n      <td>0.418441</td>\n      <td>0.636984</td>\n      <td>0.459987</td>\n      <td>0.110202</td>\n      <td>1.325794</td>\n      <td>1.023778</td>\n      <td>0.243871</td>\n    </tr>\n    <tr>\n      <th>2021-09-30</th>\n      <td>0.726482</td>\n      <td>0.767731</td>\n      <td>0.388395</td>\n      <td>0.401598</td>\n      <td>0.469531</td>\n      <td>0.292180</td>\n      <td>0.444974</td>\n      <td>0.216152</td>\n      <td>0.566140</td>\n      <td>0.484455</td>\n      <td>...</td>\n      <td>0.002192</td>\n      <td>0.314619</td>\n      <td>0.792851</td>\n      <td>0.314440</td>\n      <td>0.580251</td>\n      <td>0.428231</td>\n      <td>0.144155</td>\n      <td>1.070124</td>\n      <td>0.832500</td>\n      <td>0.295754</td>\n    </tr>\n  </tbody>\n</table>\n<p>149 rows × 505 columns</p>\n</div>"
     },
     "execution_count": 13,
     "metadata": {},
     "output_type": "execute_result"
    }
   ],
   "source": [
    "past_11"
   ],
   "metadata": {
    "collapsed": false,
    "pycharm": {
     "name": "#%%\n"
    }
   }
  },
  {
   "cell_type": "code",
   "execution_count": 14,
   "outputs": [],
   "source": [
    "formation = dt.datetime(2011, 5, 31)"
   ],
   "metadata": {
    "collapsed": false,
    "pycharm": {
     "name": "#%%\n"
    }
   }
  },
  {
   "cell_type": "code",
   "execution_count": 15,
   "outputs": [
    {
     "data": {
      "text/plain": "datetime.datetime(2011, 5, 31, 0, 0)"
     },
     "execution_count": 15,
     "metadata": {},
     "output_type": "execute_result"
    }
   ],
   "source": [
    "formation"
   ],
   "metadata": {
    "collapsed": false,
    "pycharm": {
     "name": "#%%\n"
    }
   }
  },
  {
   "cell_type": "code",
   "execution_count": 19,
   "outputs": [
    {
     "data": {
      "text/plain": "[0.018539338203048157,\n -0.005864519596416751,\n -0.026080651893330156,\n -0.07255624859698012,\n -0.0664298611906432,\n 0.05090919044744639,\n -0.004067109551302926,\n -0.11454337607374818,\n -0.01822760927748266,\n 0.02954310442779704,\n 0.06765789455367768,\n 0.02626059763605955,\n -0.01893750487808153,\n 0.009304754595376087,\n -0.00768314211754724,\n -0.012032397577791131,\n -0.000965846881085738,\n 0.022626958196542177,\n -0.006634557455259614,\n -0.011534202690959602,\n 0.0014816706336171145,\n 0.009875240192299316,\n -0.016670310493033337,\n 0.011830390124319651,\n -0.019576418180966722,\n 0.05606161301026152,\n 0.0013387928147844804,\n 0.06133371136736357,\n 0.03447037039493852,\n 0.03471690104668201,\n 0.005724987032001062,\n 0.02140582253985557,\n 0.031180764208401275,\n -0.04004268405929106,\n -0.04359286905099599,\n 0.030885670054194597,\n 0.022014879167542276,\n -0.016808459027581938,\n 0.013265423728492272,\n -0.012250819357688878,\n 0.01462625305775639,\n 0.016047638265807407,\n 0.006959122666751748,\n 0.04383549450352861,\n -0.04029915398316512,\n 0.05482594805044877,\n -0.0828827593354943,\n 0.05845218597943215,\n 0.024189790396630467,\n 0.08073881351800848,\n 0.04170057644266964,\n 0.0659422507246237,\n -0.04694646703332565,\n 0.020575222535309124,\n 0.038436873916851126,\n 0.013803777028172204,\n -0.07295560562677258,\n -0.03430707082496863,\n -0.052094364154484755,\n 0.028174040384185188,\n 0.05457320052361831,\n -0.027566306202404647,\n -0.08237905515656413,\n -0.0076745883509546425,\n -0.009793365910984272,\n -0.04261803586663644,\n -0.008004545387954719,\n -0.0007892585611123798,\n 0.0029500197619828986,\n 0.011295777359861574,\n -0.00563532838487806,\n 0.06169432082145099,\n -0.025911169689352094,\n 0.013964530944239053,\n 0.046595517920492435,\n -0.005410547921759441,\n 0.07926973639686707,\n -0.021308778899655087,\n -0.057602707440982906,\n 0.04868603839172466,\n 0.05363205810414405,\n -0.007771660407915985,\n -0.02649561581271878,\n 0.08445268138898708,\n -0.06452080552415314,\n -0.021260481073261974,\n 0.08532020790029585,\n 0.008927154402663447,\n -0.061867077634948364,\n -0.02509674944341443,\n 0.02880770854163847,\n -0.054761517452505126,\n 0.025463019818675263,\n 0.019638765018945716,\n -0.036377078313053236,\n 0.10740889138072976,\n -0.06571654664198207,\n 0.028601321409219803,\n 0.10381199420864998,\n -0.09737528149084261,\n -0.028405214436550516,\n -0.04339954219076945,\n -0.03280133148164114,\n 0.05531888100989146,\n 0.03974960841772536,\n 0.1414282453661419,\n -0.12422267468911793,\n 0.04634718813283072,\n -0.05900492769506807,\n 0.09729271592532909,\n -0.021894954116944518,\n 0.01993721344865523,\n -0.02148694473784493,\n -0.18540809205465703,\n -0.010170214306675834,\n 0.0041728723824704765,\n -0.09635795241948035,\n -0.0654731119246065,\n 0.019203089306524253,\n 0.008171232984875956]"
     },
     "execution_count": 19,
     "metadata": {},
     "output_type": "execute_result"
    }
   ],
   "source": [
    "# calculate profit using momentum strategy\n",
    "def momentum(formation):\n",
    "    end_measurement = formation - MonthEnd(1) # from last month\n",
    "    return_12 = past_11.loc[end_measurement]\n",
    "    return_12 = return_12.reset_index()\n",
    "    # separate monthly return into ten bins\n",
    "    return_12['decile'] = pd.qcut(return_12.iloc[:,1], q = 10, labels=False, duplicates='drop')\n",
    "    # get top winners and losers\n",
    "    winners = return_12[return_12.decile == 9]\n",
    "    losers = return_12[return_12.decile == 0]\n",
    "    winner_return = monthly_return.loc[formation + MonthEnd(1), monthly_return.columns.isin(winners['index'])]\n",
    "    loser_return = monthly_return.loc[formation + MonthEnd(1), monthly_return.columns.isin(losers['index'])]\n",
    "    # profit = winner - loser\n",
    "    momentum_profit = winner_return.mean() - loser_return.mean()\n",
    "    return momentum_profit, return_12\n",
    "\n",
    "profits = []\n",
    "dates = []\n",
    "for i in range(12*10): # for ten years\n",
    "    date = formation + MonthEnd(i)\n",
    "    p, _ = momentum(date)\n",
    "    profits.append(p)\n",
    "    dates.append(date)\n",
    "# list containing profit for each month, 10 years\n",
    "profits\n"
   ],
   "metadata": {
    "collapsed": false,
    "pycharm": {
     "name": "#%%\n"
    }
   }
  },
  {
   "cell_type": "code",
   "execution_count": 29,
   "outputs": [
    {
     "data": {
      "text/plain": "120"
     },
     "execution_count": 29,
     "metadata": {},
     "output_type": "execute_result"
    }
   ],
   "source": [],
   "metadata": {
    "collapsed": false,
    "pycharm": {
     "name": "#%%\n"
    }
   }
  },
  {
   "cell_type": "code",
   "execution_count": null,
   "outputs": [],
   "source": [
    "# check info in a particular month\n",
    "p, return_df =  momentum(formation)"
   ],
   "metadata": {
    "collapsed": false,
    "pycharm": {
     "name": "#%%\n"
    }
   }
  },
  {
   "cell_type": "code",
   "execution_count": 25,
   "outputs": [
    {
     "data": {
      "text/plain": "       2011-04-30 00:00:00  decile\ncount            74.000000    74.0\nmean             -0.041718     0.0\nstd               0.084471     0.0\nmin              -0.453885     0.0\n25%              -0.047793     0.0\n50%               0.000000     0.0\n75%               0.000000     0.0\nmax               0.000000     0.0",
      "text/html": "<div>\n<style scoped>\n    .dataframe tbody tr th:only-of-type {\n        vertical-align: middle;\n    }\n\n    .dataframe tbody tr th {\n        vertical-align: top;\n    }\n\n    .dataframe thead th {\n        text-align: right;\n    }\n</style>\n<table border=\"1\" class=\"dataframe\">\n  <thead>\n    <tr style=\"text-align: right;\">\n      <th></th>\n      <th>2011-04-30 00:00:00</th>\n      <th>decile</th>\n    </tr>\n  </thead>\n  <tbody>\n    <tr>\n      <th>count</th>\n      <td>74.000000</td>\n      <td>74.0</td>\n    </tr>\n    <tr>\n      <th>mean</th>\n      <td>-0.041718</td>\n      <td>0.0</td>\n    </tr>\n    <tr>\n      <th>std</th>\n      <td>0.084471</td>\n      <td>0.0</td>\n    </tr>\n    <tr>\n      <th>min</th>\n      <td>-0.453885</td>\n      <td>0.0</td>\n    </tr>\n    <tr>\n      <th>25%</th>\n      <td>-0.047793</td>\n      <td>0.0</td>\n    </tr>\n    <tr>\n      <th>50%</th>\n      <td>0.000000</td>\n      <td>0.0</td>\n    </tr>\n    <tr>\n      <th>75%</th>\n      <td>0.000000</td>\n      <td>0.0</td>\n    </tr>\n    <tr>\n      <th>max</th>\n      <td>0.000000</td>\n      <td>0.0</td>\n    </tr>\n  </tbody>\n</table>\n</div>"
     },
     "execution_count": 25,
     "metadata": {},
     "output_type": "execute_result"
    }
   ],
   "source": [
    "# check info in a particular month\n",
    "return_df[return_df['decile'] == 0].describe()"
   ],
   "metadata": {
    "collapsed": false,
    "pycharm": {
     "name": "#%%\n"
    }
   }
  },
  {
   "cell_type": "code",
   "execution_count": 30,
   "outputs": [
    {
     "data": {
      "text/plain": "       2011-04-30 00:00:00  decile\ncount            51.000000    51.0\nmean              0.952800     9.0\nstd               0.424867     0.0\nmin               0.647629     9.0\n25%               0.709828     9.0\n50%               0.835435     9.0\n75%               1.040792     9.0\nmax               3.129608     9.0",
      "text/html": "<div>\n<style scoped>\n    .dataframe tbody tr th:only-of-type {\n        vertical-align: middle;\n    }\n\n    .dataframe tbody tr th {\n        vertical-align: top;\n    }\n\n    .dataframe thead th {\n        text-align: right;\n    }\n</style>\n<table border=\"1\" class=\"dataframe\">\n  <thead>\n    <tr style=\"text-align: right;\">\n      <th></th>\n      <th>2011-04-30 00:00:00</th>\n      <th>decile</th>\n    </tr>\n  </thead>\n  <tbody>\n    <tr>\n      <th>count</th>\n      <td>51.000000</td>\n      <td>51.0</td>\n    </tr>\n    <tr>\n      <th>mean</th>\n      <td>0.952800</td>\n      <td>9.0</td>\n    </tr>\n    <tr>\n      <th>std</th>\n      <td>0.424867</td>\n      <td>0.0</td>\n    </tr>\n    <tr>\n      <th>min</th>\n      <td>0.647629</td>\n      <td>9.0</td>\n    </tr>\n    <tr>\n      <th>25%</th>\n      <td>0.709828</td>\n      <td>9.0</td>\n    </tr>\n    <tr>\n      <th>50%</th>\n      <td>0.835435</td>\n      <td>9.0</td>\n    </tr>\n    <tr>\n      <th>75%</th>\n      <td>1.040792</td>\n      <td>9.0</td>\n    </tr>\n    <tr>\n      <th>max</th>\n      <td>3.129608</td>\n      <td>9.0</td>\n    </tr>\n  </tbody>\n</table>\n</div>"
     },
     "execution_count": 30,
     "metadata": {},
     "output_type": "execute_result"
    }
   ],
   "source": [
    "# check info in a particular month\n",
    "return_df[return_df['decile'] == 9].describe()"
   ],
   "metadata": {
    "collapsed": false,
    "pycharm": {
     "name": "#%%\n"
    }
   }
  },
  {
   "cell_type": "code",
   "execution_count": 31,
   "outputs": [
    {
     "name": "stdout",
     "output_type": "stream",
     "text": [
      "[*********************100%***********************]  1 of 1 completed\n"
     ]
    }
   ],
   "source": [
    "SP = yf.download('^GSPC', start=dates[0], end=dates[-1])"
   ],
   "metadata": {
    "collapsed": false,
    "pycharm": {
     "name": "#%%\n"
    }
   }
  },
  {
   "cell_type": "code",
   "execution_count": 32,
   "outputs": [],
   "source": [
    "SP = SP['Adj Close']\n"
   ],
   "metadata": {
    "collapsed": false,
    "pycharm": {
     "name": "#%%\n"
    }
   }
  },
  {
   "cell_type": "code",
   "execution_count": 33,
   "outputs": [],
   "source": [
    "SP_monthly_return = SP.pct_change().resample('M').agg(lambda x: (x+1).prod() -1)\n"
   ],
   "metadata": {
    "collapsed": false,
    "pycharm": {
     "name": "#%%\n"
    }
   }
  },
  {
   "cell_type": "code",
   "execution_count": 34,
   "outputs": [
    {
     "data": {
      "text/plain": "Date\n2011-05-31    0.000000\n2011-06-30   -0.018257\n2011-07-31   -0.021474\n2011-08-31   -0.056791\n2011-09-30   -0.071762\n                ...   \n2020-12-31    0.037121\n2021-01-31   -0.011137\n2021-02-28    0.026091\n2021-03-31    0.042439\n2021-04-30    0.060052\nFreq: M, Name: Adj Close, Length: 120, dtype: float64"
     },
     "execution_count": 34,
     "metadata": {},
     "output_type": "execute_result"
    }
   ],
   "source": [
    "SP_monthly_return\n"
   ],
   "metadata": {
    "collapsed": false,
    "pycharm": {
     "name": "#%%\n"
    }
   }
  },
  {
   "cell_type": "code",
   "execution_count": 35,
   "outputs": [],
   "source": [
    "frame = pd.DataFrame(profits)\n"
   ],
   "metadata": {
    "collapsed": false,
    "pycharm": {
     "name": "#%%\n"
    }
   }
  },
  {
   "cell_type": "code",
   "execution_count": 36,
   "outputs": [],
   "source": [
    "frame['S_P500'] = SP_monthly_return.values"
   ],
   "metadata": {
    "collapsed": false,
    "pycharm": {
     "name": "#%%\n"
    }
   }
  },
  {
   "cell_type": "code",
   "execution_count": 39,
   "outputs": [],
   "source": [
    "frame['excess'] = frame.iloc[:,0] - frame.iloc[:,1]"
   ],
   "metadata": {
    "collapsed": false,
    "pycharm": {
     "name": "#%%\n"
    }
   }
  },
  {
   "cell_type": "code",
   "execution_count": 40,
   "outputs": [],
   "source": [
    "frame['outperformed'] = ['Yes' if i > 0 else 'No' for i in frame.excess]"
   ],
   "metadata": {
    "collapsed": false,
    "pycharm": {
     "name": "#%%\n"
    }
   }
  },
  {
   "cell_type": "code",
   "execution_count": 41,
   "outputs": [
    {
     "data": {
      "text/plain": "            0    S_P500    excess outperformed\n0    0.018539  0.000000  0.018539          Yes\n1   -0.005865 -0.018257  0.012393          Yes\n2   -0.026081 -0.021474 -0.004606           No\n3   -0.072556 -0.056791 -0.015765           No\n4   -0.066430 -0.071762  0.005332          Yes\n..        ...       ...       ...          ...\n115  0.004173  0.037121 -0.032949           No\n116 -0.096358 -0.011137 -0.085221           No\n117 -0.065473  0.026091 -0.091565           No\n118  0.019203  0.042439 -0.023236           No\n119  0.008171  0.060052 -0.051881           No\n\n[120 rows x 4 columns]",
      "text/html": "<div>\n<style scoped>\n    .dataframe tbody tr th:only-of-type {\n        vertical-align: middle;\n    }\n\n    .dataframe tbody tr th {\n        vertical-align: top;\n    }\n\n    .dataframe thead th {\n        text-align: right;\n    }\n</style>\n<table border=\"1\" class=\"dataframe\">\n  <thead>\n    <tr style=\"text-align: right;\">\n      <th></th>\n      <th>0</th>\n      <th>S_P500</th>\n      <th>excess</th>\n      <th>outperformed</th>\n    </tr>\n  </thead>\n  <tbody>\n    <tr>\n      <th>0</th>\n      <td>0.018539</td>\n      <td>0.000000</td>\n      <td>0.018539</td>\n      <td>Yes</td>\n    </tr>\n    <tr>\n      <th>1</th>\n      <td>-0.005865</td>\n      <td>-0.018257</td>\n      <td>0.012393</td>\n      <td>Yes</td>\n    </tr>\n    <tr>\n      <th>2</th>\n      <td>-0.026081</td>\n      <td>-0.021474</td>\n      <td>-0.004606</td>\n      <td>No</td>\n    </tr>\n    <tr>\n      <th>3</th>\n      <td>-0.072556</td>\n      <td>-0.056791</td>\n      <td>-0.015765</td>\n      <td>No</td>\n    </tr>\n    <tr>\n      <th>4</th>\n      <td>-0.066430</td>\n      <td>-0.071762</td>\n      <td>0.005332</td>\n      <td>Yes</td>\n    </tr>\n    <tr>\n      <th>...</th>\n      <td>...</td>\n      <td>...</td>\n      <td>...</td>\n      <td>...</td>\n    </tr>\n    <tr>\n      <th>115</th>\n      <td>0.004173</td>\n      <td>0.037121</td>\n      <td>-0.032949</td>\n      <td>No</td>\n    </tr>\n    <tr>\n      <th>116</th>\n      <td>-0.096358</td>\n      <td>-0.011137</td>\n      <td>-0.085221</td>\n      <td>No</td>\n    </tr>\n    <tr>\n      <th>117</th>\n      <td>-0.065473</td>\n      <td>0.026091</td>\n      <td>-0.091565</td>\n      <td>No</td>\n    </tr>\n    <tr>\n      <th>118</th>\n      <td>0.019203</td>\n      <td>0.042439</td>\n      <td>-0.023236</td>\n      <td>No</td>\n    </tr>\n    <tr>\n      <th>119</th>\n      <td>0.008171</td>\n      <td>0.060052</td>\n      <td>-0.051881</td>\n      <td>No</td>\n    </tr>\n  </tbody>\n</table>\n<p>120 rows × 4 columns</p>\n</div>"
     },
     "execution_count": 41,
     "metadata": {},
     "output_type": "execute_result"
    }
   ],
   "source": [
    "frame\n"
   ],
   "metadata": {
    "collapsed": false,
    "pycharm": {
     "name": "#%%\n"
    }
   }
  },
  {
   "cell_type": "code",
   "execution_count": 42,
   "outputs": [
    {
     "data": {
      "text/plain": "(47, 4)"
     },
     "execution_count": 42,
     "metadata": {},
     "output_type": "execute_result"
    }
   ],
   "source": [
    "frame[frame.outperformed == \"Yes\"].shape"
   ],
   "metadata": {
    "collapsed": false,
    "pycharm": {
     "name": "#%%\n"
    }
   }
  },
  {
   "cell_type": "code",
   "execution_count": 43,
   "outputs": [
    {
     "data": {
      "text/plain": "(120, 4)"
     },
     "execution_count": 43,
     "metadata": {},
     "output_type": "execute_result"
    }
   ],
   "source": [
    "frame.shape"
   ],
   "metadata": {
    "collapsed": false,
    "pycharm": {
     "name": "#%%\n"
    }
   }
  },
  {
   "cell_type": "code",
   "execution_count": 44,
   "outputs": [
    {
     "data": {
      "text/plain": "0.39166666666666666"
     },
     "execution_count": 44,
     "metadata": {},
     "output_type": "execute_result"
    }
   ],
   "source": [
    "47/120"
   ],
   "metadata": {
    "collapsed": false,
    "pycharm": {
     "name": "#%%\n"
    }
   }
  },
  {
   "cell_type": "code",
   "execution_count": null,
   "outputs": [],
   "source": [],
   "metadata": {
    "collapsed": false,
    "pycharm": {
     "name": "#%%\n"
    }
   }
  }
 ],
 "metadata": {
  "kernelspec": {
   "display_name": "Python 3",
   "language": "python",
   "name": "python3"
  },
  "language_info": {
   "codemirror_mode": {
    "name": "ipython",
    "version": 2
   },
   "file_extension": ".py",
   "mimetype": "text/x-python",
   "name": "python",
   "nbconvert_exporter": "python",
   "pygments_lexer": "ipython2",
   "version": "2.7.6"
  }
 },
 "nbformat": 4,
 "nbformat_minor": 0
}